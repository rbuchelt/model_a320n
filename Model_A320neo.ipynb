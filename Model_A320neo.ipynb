{
  "nbformat": 4,
  "nbformat_minor": 0,
  "metadata": {
    "colab": {
      "name": "Model A320neo.ipynb",
      "provenance": []
    },
    "kernelspec": {
      "name": "python3",
      "display_name": "Python 3"
    },
    "language_info": {
      "name": "python"
    },
    "accelerator": "GPU"
  },
  "cells": [
    {
      "cell_type": "markdown",
      "source": [
        "# Importação das bibliotecas"
      ],
      "metadata": {
        "id": "cYPltXG_9wYN"
      }
    },
    {
      "cell_type": "code",
      "execution_count": 1,
      "metadata": {
        "id": "Z5t8kUnR9v6d"
      },
      "outputs": [],
      "source": [
        "import pandas as pd\n",
        "import numpy as np\n",
        "from sklearn.model_selection import train_test_split\n",
        "from sklearn.metrics import r2_score, mean_squared_error\n",
        "from keras.models import Sequential\n",
        "from keras.layers import Dense, Dropout\n",
        "from tensorflow.keras.callbacks import EarlyStopping, ReduceLROnPlateau, ModelCheckpoint\n",
        "from sklearn.preprocessing import MinMaxScaler\n",
        "import seaborn as sns\n",
        "import matplotlib.pyplot as plt"
      ]
    },
    {
      "cell_type": "markdown",
      "source": [
        "# Carregando a base de dados"
      ],
      "metadata": {
        "id": "lbVEW5a2-1ll"
      }
    },
    {
      "cell_type": "code",
      "source": [
        "df = pd.read_csv('a20n.csv', decimal=',', sep=';')\n",
        "df.head()"
      ],
      "metadata": {
        "colab": {
          "base_uri": "https://localhost:8080/",
          "height": 386
        },
        "id": "YiU9IJ0C-3lh",
        "outputId": "43b2a786-7497-4741-caa3-1a97b97f7881"
      },
      "execution_count": 2,
      "outputs": [
        {
          "output_type": "execute_result",
          "data": {
            "text/plain": [
              "  sg_empresa_icao dt_referencia sg_icao_origem sg_equipamento_icao  \\\n",
              "0             AZU    2021-01-01           SBRJ                A20N   \n",
              "1             AZU    2021-01-01           SBSV                A20N   \n",
              "2             AZU    2021-01-01           SBSP                A20N   \n",
              "3             AZU    2021-01-01           SBSL                A20N   \n",
              "4             AZU    2021-01-01           SBCF                A20N   \n",
              "\n",
              "        ds_modelo ds_matricula sg_icao_destino  lt_combustivel  \\\n",
              "0  AIRBUS A320NEO         YRX             SBGO          4185.0   \n",
              "1  AIRBUS A320NEO         YYJ             SBCF          4324.0   \n",
              "2  AIRBUS A320NEO         YRF             SBRF          8081.0   \n",
              "3  AIRBUS A320NEO         YRQ             SBRF          4603.0   \n",
              "4  AIRBUS A320NEO         YSD             SBSV          3849.0   \n",
              "\n",
              "   nr_assentos_ofertados  kg_payload  ...  nr_pax_gratis_km  nr_carga_paga_km  \\\n",
              "0                    174       15483  ...             943.0               0.0   \n",
              "1                    165       17843  ...             959.0            1918.0   \n",
              "2                    174       18203  ...               0.0           61741.0   \n",
              "3                    174       19242  ...               0.0           70859.0   \n",
              "4                    174       18206  ...            2877.0          223447.0   \n",
              "\n",
              "   nr_carga_gratis_km  nr_correio_km  nr_bagagem_paga_km  \\\n",
              "0                 0.0            0.0             10373.0   \n",
              "1                 0.0            0.0             36442.0   \n",
              "2                 0.0            0.0             61741.0   \n",
              "3                 0.0            0.0             40834.0   \n",
              "4                 0.0            0.0             48909.0   \n",
              "\n",
              "   nr_bagagem_gratis_km    nr_ask    nr_rpk   nr_atk   nr_rtk  \n",
              "0              933570.0  164082.0  115989.0  14600.0   9643.0  \n",
              "1             1426030.0  158235.0  154399.0  17111.0  13044.0  \n",
              "2             2967830.0  370446.0  336382.0  38754.0  28319.0  \n",
              "3             1456810.0  208974.0  181351.0  23109.0  15169.0  \n",
              "4             1041470.0  166866.0  146727.0  17459.0  12318.0  \n",
              "\n",
              "[5 rows x 32 columns]"
            ],
            "text/html": [
              "\n",
              "  <div id=\"df-d1929f09-f84d-4975-9aca-2729f228cb43\">\n",
              "    <div class=\"colab-df-container\">\n",
              "      <div>\n",
              "<style scoped>\n",
              "    .dataframe tbody tr th:only-of-type {\n",
              "        vertical-align: middle;\n",
              "    }\n",
              "\n",
              "    .dataframe tbody tr th {\n",
              "        vertical-align: top;\n",
              "    }\n",
              "\n",
              "    .dataframe thead th {\n",
              "        text-align: right;\n",
              "    }\n",
              "</style>\n",
              "<table border=\"1\" class=\"dataframe\">\n",
              "  <thead>\n",
              "    <tr style=\"text-align: right;\">\n",
              "      <th></th>\n",
              "      <th>sg_empresa_icao</th>\n",
              "      <th>dt_referencia</th>\n",
              "      <th>sg_icao_origem</th>\n",
              "      <th>sg_equipamento_icao</th>\n",
              "      <th>ds_modelo</th>\n",
              "      <th>ds_matricula</th>\n",
              "      <th>sg_icao_destino</th>\n",
              "      <th>lt_combustivel</th>\n",
              "      <th>nr_assentos_ofertados</th>\n",
              "      <th>kg_payload</th>\n",
              "      <th>...</th>\n",
              "      <th>nr_pax_gratis_km</th>\n",
              "      <th>nr_carga_paga_km</th>\n",
              "      <th>nr_carga_gratis_km</th>\n",
              "      <th>nr_correio_km</th>\n",
              "      <th>nr_bagagem_paga_km</th>\n",
              "      <th>nr_bagagem_gratis_km</th>\n",
              "      <th>nr_ask</th>\n",
              "      <th>nr_rpk</th>\n",
              "      <th>nr_atk</th>\n",
              "      <th>nr_rtk</th>\n",
              "    </tr>\n",
              "  </thead>\n",
              "  <tbody>\n",
              "    <tr>\n",
              "      <th>0</th>\n",
              "      <td>AZU</td>\n",
              "      <td>2021-01-01</td>\n",
              "      <td>SBRJ</td>\n",
              "      <td>A20N</td>\n",
              "      <td>AIRBUS A320NEO</td>\n",
              "      <td>YRX</td>\n",
              "      <td>SBGO</td>\n",
              "      <td>4185.0</td>\n",
              "      <td>174</td>\n",
              "      <td>15483</td>\n",
              "      <td>...</td>\n",
              "      <td>943.0</td>\n",
              "      <td>0.0</td>\n",
              "      <td>0.0</td>\n",
              "      <td>0.0</td>\n",
              "      <td>10373.0</td>\n",
              "      <td>933570.0</td>\n",
              "      <td>164082.0</td>\n",
              "      <td>115989.0</td>\n",
              "      <td>14600.0</td>\n",
              "      <td>9643.0</td>\n",
              "    </tr>\n",
              "    <tr>\n",
              "      <th>1</th>\n",
              "      <td>AZU</td>\n",
              "      <td>2021-01-01</td>\n",
              "      <td>SBSV</td>\n",
              "      <td>A20N</td>\n",
              "      <td>AIRBUS A320NEO</td>\n",
              "      <td>YYJ</td>\n",
              "      <td>SBCF</td>\n",
              "      <td>4324.0</td>\n",
              "      <td>165</td>\n",
              "      <td>17843</td>\n",
              "      <td>...</td>\n",
              "      <td>959.0</td>\n",
              "      <td>1918.0</td>\n",
              "      <td>0.0</td>\n",
              "      <td>0.0</td>\n",
              "      <td>36442.0</td>\n",
              "      <td>1426030.0</td>\n",
              "      <td>158235.0</td>\n",
              "      <td>154399.0</td>\n",
              "      <td>17111.0</td>\n",
              "      <td>13044.0</td>\n",
              "    </tr>\n",
              "    <tr>\n",
              "      <th>2</th>\n",
              "      <td>AZU</td>\n",
              "      <td>2021-01-01</td>\n",
              "      <td>SBSP</td>\n",
              "      <td>A20N</td>\n",
              "      <td>AIRBUS A320NEO</td>\n",
              "      <td>YRF</td>\n",
              "      <td>SBRF</td>\n",
              "      <td>8081.0</td>\n",
              "      <td>174</td>\n",
              "      <td>18203</td>\n",
              "      <td>...</td>\n",
              "      <td>0.0</td>\n",
              "      <td>61741.0</td>\n",
              "      <td>0.0</td>\n",
              "      <td>0.0</td>\n",
              "      <td>61741.0</td>\n",
              "      <td>2967830.0</td>\n",
              "      <td>370446.0</td>\n",
              "      <td>336382.0</td>\n",
              "      <td>38754.0</td>\n",
              "      <td>28319.0</td>\n",
              "    </tr>\n",
              "    <tr>\n",
              "      <th>3</th>\n",
              "      <td>AZU</td>\n",
              "      <td>2021-01-01</td>\n",
              "      <td>SBSL</td>\n",
              "      <td>A20N</td>\n",
              "      <td>AIRBUS A320NEO</td>\n",
              "      <td>YRQ</td>\n",
              "      <td>SBRF</td>\n",
              "      <td>4603.0</td>\n",
              "      <td>174</td>\n",
              "      <td>19242</td>\n",
              "      <td>...</td>\n",
              "      <td>0.0</td>\n",
              "      <td>70859.0</td>\n",
              "      <td>0.0</td>\n",
              "      <td>0.0</td>\n",
              "      <td>40834.0</td>\n",
              "      <td>1456810.0</td>\n",
              "      <td>208974.0</td>\n",
              "      <td>181351.0</td>\n",
              "      <td>23109.0</td>\n",
              "      <td>15169.0</td>\n",
              "    </tr>\n",
              "    <tr>\n",
              "      <th>4</th>\n",
              "      <td>AZU</td>\n",
              "      <td>2021-01-01</td>\n",
              "      <td>SBCF</td>\n",
              "      <td>A20N</td>\n",
              "      <td>AIRBUS A320NEO</td>\n",
              "      <td>YSD</td>\n",
              "      <td>SBSV</td>\n",
              "      <td>3849.0</td>\n",
              "      <td>174</td>\n",
              "      <td>18206</td>\n",
              "      <td>...</td>\n",
              "      <td>2877.0</td>\n",
              "      <td>223447.0</td>\n",
              "      <td>0.0</td>\n",
              "      <td>0.0</td>\n",
              "      <td>48909.0</td>\n",
              "      <td>1041470.0</td>\n",
              "      <td>166866.0</td>\n",
              "      <td>146727.0</td>\n",
              "      <td>17459.0</td>\n",
              "      <td>12318.0</td>\n",
              "    </tr>\n",
              "  </tbody>\n",
              "</table>\n",
              "<p>5 rows × 32 columns</p>\n",
              "</div>\n",
              "      <button class=\"colab-df-convert\" onclick=\"convertToInteractive('df-d1929f09-f84d-4975-9aca-2729f228cb43')\"\n",
              "              title=\"Convert this dataframe to an interactive table.\"\n",
              "              style=\"display:none;\">\n",
              "        \n",
              "  <svg xmlns=\"http://www.w3.org/2000/svg\" height=\"24px\"viewBox=\"0 0 24 24\"\n",
              "       width=\"24px\">\n",
              "    <path d=\"M0 0h24v24H0V0z\" fill=\"none\"/>\n",
              "    <path d=\"M18.56 5.44l.94 2.06.94-2.06 2.06-.94-2.06-.94-.94-2.06-.94 2.06-2.06.94zm-11 1L8.5 8.5l.94-2.06 2.06-.94-2.06-.94L8.5 2.5l-.94 2.06-2.06.94zm10 10l.94 2.06.94-2.06 2.06-.94-2.06-.94-.94-2.06-.94 2.06-2.06.94z\"/><path d=\"M17.41 7.96l-1.37-1.37c-.4-.4-.92-.59-1.43-.59-.52 0-1.04.2-1.43.59L10.3 9.45l-7.72 7.72c-.78.78-.78 2.05 0 2.83L4 21.41c.39.39.9.59 1.41.59.51 0 1.02-.2 1.41-.59l7.78-7.78 2.81-2.81c.8-.78.8-2.07 0-2.86zM5.41 20L4 18.59l7.72-7.72 1.47 1.35L5.41 20z\"/>\n",
              "  </svg>\n",
              "      </button>\n",
              "      \n",
              "  <style>\n",
              "    .colab-df-container {\n",
              "      display:flex;\n",
              "      flex-wrap:wrap;\n",
              "      gap: 12px;\n",
              "    }\n",
              "\n",
              "    .colab-df-convert {\n",
              "      background-color: #E8F0FE;\n",
              "      border: none;\n",
              "      border-radius: 50%;\n",
              "      cursor: pointer;\n",
              "      display: none;\n",
              "      fill: #1967D2;\n",
              "      height: 32px;\n",
              "      padding: 0 0 0 0;\n",
              "      width: 32px;\n",
              "    }\n",
              "\n",
              "    .colab-df-convert:hover {\n",
              "      background-color: #E2EBFA;\n",
              "      box-shadow: 0px 1px 2px rgba(60, 64, 67, 0.3), 0px 1px 3px 1px rgba(60, 64, 67, 0.15);\n",
              "      fill: #174EA6;\n",
              "    }\n",
              "\n",
              "    [theme=dark] .colab-df-convert {\n",
              "      background-color: #3B4455;\n",
              "      fill: #D2E3FC;\n",
              "    }\n",
              "\n",
              "    [theme=dark] .colab-df-convert:hover {\n",
              "      background-color: #434B5C;\n",
              "      box-shadow: 0px 1px 3px 1px rgba(0, 0, 0, 0.15);\n",
              "      filter: drop-shadow(0px 1px 2px rgba(0, 0, 0, 0.3));\n",
              "      fill: #FFFFFF;\n",
              "    }\n",
              "  </style>\n",
              "\n",
              "      <script>\n",
              "        const buttonEl =\n",
              "          document.querySelector('#df-d1929f09-f84d-4975-9aca-2729f228cb43 button.colab-df-convert');\n",
              "        buttonEl.style.display =\n",
              "          google.colab.kernel.accessAllowed ? 'block' : 'none';\n",
              "\n",
              "        async function convertToInteractive(key) {\n",
              "          const element = document.querySelector('#df-d1929f09-f84d-4975-9aca-2729f228cb43');\n",
              "          const dataTable =\n",
              "            await google.colab.kernel.invokeFunction('convertToInteractive',\n",
              "                                                     [key], {});\n",
              "          if (!dataTable) return;\n",
              "\n",
              "          const docLinkHtml = 'Like what you see? Visit the ' +\n",
              "            '<a target=\"_blank\" href=https://colab.research.google.com/notebooks/data_table.ipynb>data table notebook</a>'\n",
              "            + ' to learn more about interactive tables.';\n",
              "          element.innerHTML = '';\n",
              "          dataTable['output_type'] = 'display_data';\n",
              "          await google.colab.output.renderOutput(dataTable, element);\n",
              "          const docLink = document.createElement('div');\n",
              "          docLink.innerHTML = docLinkHtml;\n",
              "          element.appendChild(docLink);\n",
              "        }\n",
              "      </script>\n",
              "    </div>\n",
              "  </div>\n",
              "  "
            ]
          },
          "metadata": {},
          "execution_count": 2
        }
      ]
    },
    {
      "cell_type": "markdown",
      "source": [
        "# Explorando a base de dados"
      ],
      "metadata": {
        "id": "Ad7PmzEA_lIX"
      }
    },
    {
      "cell_type": "code",
      "source": [
        "df.info()"
      ],
      "metadata": {
        "colab": {
          "base_uri": "https://localhost:8080/"
        },
        "id": "ex0X_JEN-9J8",
        "outputId": "724f6bb6-8234-4d77-ea6e-ee63ce69df13"
      },
      "execution_count": 3,
      "outputs": [
        {
          "output_type": "stream",
          "name": "stdout",
          "text": [
            "<class 'pandas.core.frame.DataFrame'>\n",
            "RangeIndex: 53570 entries, 0 to 53569\n",
            "Data columns (total 32 columns):\n",
            " #   Column                 Non-Null Count  Dtype  \n",
            "---  ------                 --------------  -----  \n",
            " 0   sg_empresa_icao        53570 non-null  object \n",
            " 1   dt_referencia          53570 non-null  object \n",
            " 2   sg_icao_origem         53570 non-null  object \n",
            " 3   sg_equipamento_icao    53570 non-null  object \n",
            " 4   ds_modelo              53570 non-null  object \n",
            " 5   ds_matricula           53570 non-null  object \n",
            " 6   sg_icao_destino        53570 non-null  object \n",
            " 7   lt_combustivel         53570 non-null  float64\n",
            " 8   nr_assentos_ofertados  53570 non-null  int64  \n",
            " 9   kg_payload             53570 non-null  int64  \n",
            " 10  km_distancia           53570 non-null  float64\n",
            " 11  nr_passag_pagos        53570 non-null  float64\n",
            " 12  nr_passag_gratis       53570 non-null  float64\n",
            " 13  kg_bagagem_livre       53570 non-null  float64\n",
            " 14  kg_bagagem_excesso     53570 non-null  float64\n",
            " 15  kg_carga_paga          53570 non-null  float64\n",
            " 16  kg_carga_gratis        53570 non-null  float64\n",
            " 17  kg_correio             53570 non-null  float64\n",
            " 18  nr_decolagem           53570 non-null  int64  \n",
            " 19  nr_horas_voadas        53570 non-null  float64\n",
            " 20  kg_peso                53570 non-null  float64\n",
            " 21  nr_velocidade_media    53570 non-null  float64\n",
            " 22  nr_pax_gratis_km       53570 non-null  float64\n",
            " 23  nr_carga_paga_km       53570 non-null  float64\n",
            " 24  nr_carga_gratis_km     53570 non-null  float64\n",
            " 25  nr_correio_km          53570 non-null  float64\n",
            " 26  nr_bagagem_paga_km     53570 non-null  float64\n",
            " 27  nr_bagagem_gratis_km   53570 non-null  float64\n",
            " 28  nr_ask                 53570 non-null  float64\n",
            " 29  nr_rpk                 53570 non-null  float64\n",
            " 30  nr_atk                 53570 non-null  float64\n",
            " 31  nr_rtk                 53570 non-null  float64\n",
            "dtypes: float64(22), int64(3), object(7)\n",
            "memory usage: 13.1+ MB\n"
          ]
        }
      ]
    },
    {
      "cell_type": "markdown",
      "source": [
        "Podemos ver que nenhuma das colunas da base de dados possui valores nulos. Assim não precisamos fazer qualquer tipo de tratamento nesse sentido na base de dados."
      ],
      "metadata": {
        "id": "cnfyhZhI_sps"
      }
    },
    {
      "cell_type": "markdown",
      "source": [
        "## Descrição das variáveis utilizadas"
      ],
      "metadata": {
        "id": "QZQ9d9tqCa4X"
      }
    },
    {
      "cell_type": "markdown",
      "source": [
        "Quanto aos dados existentes na base de dados, temos segundo a ANAC as definições para cada variável:\n",
        "\n",
        "\n",
        "* sg_empresa_icao - Sigla ICAO da empresa aérea. Refere-se ao designador da empresa de transporte aéreo obtido junto à OACI (Organização da Aviação Civil Internacional).\n",
        "\n",
        "* dt_referencia - Data de Referência. Corresponde à Data Prevista de Início do Voo.\n",
        "\n",
        "* sg_icao_origem - Sigla ICAO do aeródromo de origem.\n",
        "\n",
        "* sg_equipamento_icao - Designador ICAO do modelo da aeronave (“Type Designator”)\n",
        "\n",
        "* ds_modelo - Descrição do modelo da aeronave.\n",
        "\n",
        "* ds_matricula - Marca de matrícula da aeronave.\n",
        "\n",
        "* sg_icao_destino - Código identificador do aeródromo de destino no sistema.\n",
        "\n",
        "* lt_combustivel - Quantidade de combustível consumida, expressa em litros.\n",
        "\n",
        "* nr_assentos_ofertados - Número de assentos disponíveis na etapa do voo.\n",
        "\n",
        "* kg_payload - Capacidade Payload, expressa em quilogramas.\n",
        "\n",
        "* km_distancia - Distância, expressa em quilômetros, entre os aeródromos de origem e destino da etapa, considerando a curvatura do planeta terra.\n",
        "\n",
        "* nr_passag_pagos - Número de passageiros que ocupam assentos comercializados ao público e que geram receita, com a compra de assentos, para a empresa de transporte aéreo.\n",
        "\n",
        "* nr_passag_gratis - Número de passageiros que ocupam assentos comercializados ao público, mas não geram receita, com a compra de assentos, para a empresa de transporte aéreo.\n",
        "\n",
        "* kg_bagagem_livre - Bagagem franqueada. É toda bagagem que não é considerada como excesso, expressa em quilogramas.\n",
        "\n",
        "* kg_bagagem_excesso - Excesso de bagagem. É a quantidade total de bagagem que excede o limite de peso acordado entre a empresa aérea e o passageiro (adquirido antes ou depois da compra do bilhete), verificada no momento do despacho, expressa em quilogramas.\n",
        "\n",
        "* kg_carga_paga - Carga paga. É a quantidade total, expressa em quilogramas, de todos os bens que tenham sido transportados na aeronave, exceto correio e bagagem, e tenham gerado receita direta ou indireta para a empresa aérea. \n",
        "\n",
        "* kg_carga_gratis - Quantidade total, expressa em quilogramas, de todos os bens que tenham sido transportados na aeronave, exceto correio e bagagem, e não tenha gerado receitas diretas ou indiretas para a empresa aérea.\n",
        "\n",
        "* kg_correio - Quantidade, expressa em quilogramas, de objetos transportados para atender aos operadores designados oficialmente pelo país para operar serviços postais e cumprir com as obrigações associadas decorrentes dos Atos da Universal Postal Union (UPU).\n",
        "\n",
        "* nr_decolagem - Número de decolagens.\n",
        "\n",
        "* nr_horas_voadas - Número de horas voadas.\n",
        "\n",
        "* kg_peso - Refere-se ao peso total carregado pela aeronave, calculado pela soma de carga, correio, passageiros e bagagem, expressos em kg. O peso dos passageiros transportados é calculado multiplicando-se a quantidade total de passageiros por 75, para empresas brasileiras. No caso das empresas estrangeiras, que não enviam dados de bagagem à ANAC, o peso total de passageiros e bagagens é estimado multiplicando-se a quantidade total de passageiros por 90.\n",
        "\n",
        "* nr_velocidade_media - Velocidade média do voo, calculada a partir da distância e da duração do voo, expressa em km/h.\n",
        "\n",
        "* nr_pax_gratis_km - Representa, para cada etapa básica, o produto entre a quantidade de passageiros grátis e a distância da etapa.\n",
        "\n",
        "* nr_carga_paga_km - Refere-se ao produto entre a quantidade de carga paga (kg) e a distância da etapa básica (km).\n",
        "\n",
        "* nr_carga_gratis_km - Refere-se ao produto entre a quantidade de carga grátis (kg) e a distância da etapa básica (km).\n",
        "\n",
        "* nr_correio_km - Refere-se ao produto entre a quantidade de correio (kg) e a distância da etapa básica (km).\n",
        "\n",
        "* nr_bagagem_paga_km - Refere-se ao produto entre a quantidade de bagagem paga (kg) e a distância da etapa básica (km).\n",
        "\n",
        "* nr_bagagem_gratis_km - Refere-se ao produto entre a quantidade de bagagem grátis (kg) e a distância da etapa básica (km).\n",
        "\n",
        "* nr_ask - Refere-se ao volume de Assentos Quilômetros Oferecidos (Available Seat Kilometer). É calculado, em cada etapa básica, pelo produto entre o número de assentos oferecidos e a distância da etapa.\n",
        "\n",
        "* nr_rpk - Refere-se ao volume de Passageiros Quilômetros Transportados (Revenue Passenger Kilometer). É calculado, em cada etapa básica, pelo produto entre o número de passageiros pagos e a distância da etapa.\n",
        "\n",
        "* nr_atk - Refere-se ao volume de Toneladas Quilômetros Oferecidas (Available Tonne Kilometer), expresso em (ton x km). É calculado, em cada etapa básica, pelo produto entre a Capacidade Payload (kg) e a distância da etapa, dividido por 1000.\n",
        "\n",
        "* nr_rtk - Refere-se ao volume de Toneladas Quilômetros Transportadas (Revenue Tonne Kilometer), expresso em (ton x km). É calculado, em cada etapa básica, pelo produto entre a quantidade, expressa em quilogramas, de passageiros, bagagem, carga e correio pagos transportada e a distância da etapa, dividido por 1000. Cada passageiro possui o peso estimado de 75kg, para empresas brasileiras. No caso das empresas estrangeiras, que não enviam dados de bagagem à ANAC, o peso total de passageiros e bagagens é estimado multiplicando-se a quantidade total de passageiros por 90."
      ],
      "metadata": {
        "id": "3k8dpqwr_4qD"
      }
    },
    {
      "cell_type": "markdown",
      "source": [
        "## Tamanho da base de dados"
      ],
      "metadata": {
        "id": "onieIe0cCl3_"
      }
    },
    {
      "cell_type": "code",
      "source": [
        "df.shape"
      ],
      "metadata": {
        "colab": {
          "base_uri": "https://localhost:8080/"
        },
        "id": "1OMdBLys_0fc",
        "outputId": "31f0099a-63f5-4f64-fd8a-73f7b5b29998"
      },
      "execution_count": 4,
      "outputs": [
        {
          "output_type": "execute_result",
          "data": {
            "text/plain": [
              "(53570, 32)"
            ]
          },
          "metadata": {},
          "execution_count": 4
        }
      ]
    },
    {
      "cell_type": "markdown",
      "source": [
        "Temos uma base de 53570 linhas e 32 colunas. Essa base leva em consideração somente os voos domésticos realizados pelo modelo A320neo da Azul Linhas Aéreas Brasileiras durante o ano de 2021."
      ],
      "metadata": {
        "id": "bNX1SWf8DJtl"
      }
    },
    {
      "cell_type": "markdown",
      "source": [
        "# Limpeza da base de dados"
      ],
      "metadata": {
        "id": "UNqc8e3kDbef"
      }
    },
    {
      "cell_type": "markdown",
      "source": [
        "Como temos algumas colunas que possuem dados categóricos, precisamos fazer uma limpeza na base. Precisamos deixar somente os dados numéricos relevantes. Primeiro vamos tirar dados como a matrícula da aeronave, dados de origem e destino (já que temos a distância percorrida, dados de origem e destino não são relevantes) e etc. Feito isso, faremos um mapa de correlação entre as variáveis para verificar quais outras variáveis são interessantes para o modelo. Outra variável que já podemos eliminar é a nr_decolagem, uma vez que sempre será 1 na nossa base pois corresponde ao voo efetuado."
      ],
      "metadata": {
        "id": "y49rT5vXDeM_"
      }
    },
    {
      "cell_type": "code",
      "source": [
        "df = df[['lt_combustivel', 'nr_assentos_ofertados', 'kg_payload', 'km_distancia',\n",
        "       'nr_passag_pagos', 'nr_passag_gratis', 'kg_bagagem_livre',\n",
        "       'kg_bagagem_excesso', 'kg_carga_paga', 'kg_carga_gratis', 'kg_correio',\n",
        "        'nr_horas_voadas', 'kg_peso', 'nr_velocidade_media',\n",
        "       'nr_pax_gratis_km', 'nr_carga_paga_km', 'nr_carga_gratis_km',\n",
        "       'nr_correio_km', 'nr_bagagem_paga_km', 'nr_bagagem_gratis_km', 'nr_ask',\n",
        "       'nr_rpk', 'nr_atk', 'nr_rtk']]\n",
        "df.head()"
      ],
      "metadata": {
        "colab": {
          "base_uri": "https://localhost:8080/",
          "height": 299
        },
        "id": "b2khMgdFCoQ1",
        "outputId": "1815295b-0e2c-4e77-fc52-604df0ba3480"
      },
      "execution_count": 5,
      "outputs": [
        {
          "output_type": "execute_result",
          "data": {
            "text/plain": [
              "   lt_combustivel  nr_assentos_ofertados  kg_payload  km_distancia  \\\n",
              "0          4185.0                    174       15483         943.0   \n",
              "1          4324.0                    165       17843         959.0   \n",
              "2          8081.0                    174       18203        2129.0   \n",
              "3          4603.0                    174       19242        1201.0   \n",
              "4          3849.0                    174       18206         959.0   \n",
              "\n",
              "   nr_passag_pagos  nr_passag_gratis  kg_bagagem_livre  kg_bagagem_excesso  \\\n",
              "0            123.0               1.0             990.0                11.0   \n",
              "1            161.0               1.0            1487.0                38.0   \n",
              "2            158.0               0.0            1394.0                29.0   \n",
              "3            151.0               0.0            1213.0                34.0   \n",
              "4            153.0               3.0            1086.0                51.0   \n",
              "\n",
              "   kg_carga_paga  kg_carga_gratis  ...  nr_pax_gratis_km  nr_carga_paga_km  \\\n",
              "0            0.0              0.0  ...             943.0               0.0   \n",
              "1            2.0              0.0  ...             959.0            1918.0   \n",
              "2           29.0              0.0  ...               0.0           61741.0   \n",
              "3           59.0              0.0  ...               0.0           70859.0   \n",
              "4          233.0              0.0  ...            2877.0          223447.0   \n",
              "\n",
              "   nr_carga_gratis_km  nr_correio_km  nr_bagagem_paga_km  \\\n",
              "0                 0.0            0.0             10373.0   \n",
              "1                 0.0            0.0             36442.0   \n",
              "2                 0.0            0.0             61741.0   \n",
              "3                 0.0            0.0             40834.0   \n",
              "4                 0.0            0.0             48909.0   \n",
              "\n",
              "   nr_bagagem_gratis_km    nr_ask    nr_rpk   nr_atk   nr_rtk  \n",
              "0              933570.0  164082.0  115989.0  14600.0   9643.0  \n",
              "1             1426030.0  158235.0  154399.0  17111.0  13044.0  \n",
              "2             2967830.0  370446.0  336382.0  38754.0  28319.0  \n",
              "3             1456810.0  208974.0  181351.0  23109.0  15169.0  \n",
              "4             1041470.0  166866.0  146727.0  17459.0  12318.0  \n",
              "\n",
              "[5 rows x 24 columns]"
            ],
            "text/html": [
              "\n",
              "  <div id=\"df-73503042-f727-4409-bdfb-9858b9f39752\">\n",
              "    <div class=\"colab-df-container\">\n",
              "      <div>\n",
              "<style scoped>\n",
              "    .dataframe tbody tr th:only-of-type {\n",
              "        vertical-align: middle;\n",
              "    }\n",
              "\n",
              "    .dataframe tbody tr th {\n",
              "        vertical-align: top;\n",
              "    }\n",
              "\n",
              "    .dataframe thead th {\n",
              "        text-align: right;\n",
              "    }\n",
              "</style>\n",
              "<table border=\"1\" class=\"dataframe\">\n",
              "  <thead>\n",
              "    <tr style=\"text-align: right;\">\n",
              "      <th></th>\n",
              "      <th>lt_combustivel</th>\n",
              "      <th>nr_assentos_ofertados</th>\n",
              "      <th>kg_payload</th>\n",
              "      <th>km_distancia</th>\n",
              "      <th>nr_passag_pagos</th>\n",
              "      <th>nr_passag_gratis</th>\n",
              "      <th>kg_bagagem_livre</th>\n",
              "      <th>kg_bagagem_excesso</th>\n",
              "      <th>kg_carga_paga</th>\n",
              "      <th>kg_carga_gratis</th>\n",
              "      <th>...</th>\n",
              "      <th>nr_pax_gratis_km</th>\n",
              "      <th>nr_carga_paga_km</th>\n",
              "      <th>nr_carga_gratis_km</th>\n",
              "      <th>nr_correio_km</th>\n",
              "      <th>nr_bagagem_paga_km</th>\n",
              "      <th>nr_bagagem_gratis_km</th>\n",
              "      <th>nr_ask</th>\n",
              "      <th>nr_rpk</th>\n",
              "      <th>nr_atk</th>\n",
              "      <th>nr_rtk</th>\n",
              "    </tr>\n",
              "  </thead>\n",
              "  <tbody>\n",
              "    <tr>\n",
              "      <th>0</th>\n",
              "      <td>4185.0</td>\n",
              "      <td>174</td>\n",
              "      <td>15483</td>\n",
              "      <td>943.0</td>\n",
              "      <td>123.0</td>\n",
              "      <td>1.0</td>\n",
              "      <td>990.0</td>\n",
              "      <td>11.0</td>\n",
              "      <td>0.0</td>\n",
              "      <td>0.0</td>\n",
              "      <td>...</td>\n",
              "      <td>943.0</td>\n",
              "      <td>0.0</td>\n",
              "      <td>0.0</td>\n",
              "      <td>0.0</td>\n",
              "      <td>10373.0</td>\n",
              "      <td>933570.0</td>\n",
              "      <td>164082.0</td>\n",
              "      <td>115989.0</td>\n",
              "      <td>14600.0</td>\n",
              "      <td>9643.0</td>\n",
              "    </tr>\n",
              "    <tr>\n",
              "      <th>1</th>\n",
              "      <td>4324.0</td>\n",
              "      <td>165</td>\n",
              "      <td>17843</td>\n",
              "      <td>959.0</td>\n",
              "      <td>161.0</td>\n",
              "      <td>1.0</td>\n",
              "      <td>1487.0</td>\n",
              "      <td>38.0</td>\n",
              "      <td>2.0</td>\n",
              "      <td>0.0</td>\n",
              "      <td>...</td>\n",
              "      <td>959.0</td>\n",
              "      <td>1918.0</td>\n",
              "      <td>0.0</td>\n",
              "      <td>0.0</td>\n",
              "      <td>36442.0</td>\n",
              "      <td>1426030.0</td>\n",
              "      <td>158235.0</td>\n",
              "      <td>154399.0</td>\n",
              "      <td>17111.0</td>\n",
              "      <td>13044.0</td>\n",
              "    </tr>\n",
              "    <tr>\n",
              "      <th>2</th>\n",
              "      <td>8081.0</td>\n",
              "      <td>174</td>\n",
              "      <td>18203</td>\n",
              "      <td>2129.0</td>\n",
              "      <td>158.0</td>\n",
              "      <td>0.0</td>\n",
              "      <td>1394.0</td>\n",
              "      <td>29.0</td>\n",
              "      <td>29.0</td>\n",
              "      <td>0.0</td>\n",
              "      <td>...</td>\n",
              "      <td>0.0</td>\n",
              "      <td>61741.0</td>\n",
              "      <td>0.0</td>\n",
              "      <td>0.0</td>\n",
              "      <td>61741.0</td>\n",
              "      <td>2967830.0</td>\n",
              "      <td>370446.0</td>\n",
              "      <td>336382.0</td>\n",
              "      <td>38754.0</td>\n",
              "      <td>28319.0</td>\n",
              "    </tr>\n",
              "    <tr>\n",
              "      <th>3</th>\n",
              "      <td>4603.0</td>\n",
              "      <td>174</td>\n",
              "      <td>19242</td>\n",
              "      <td>1201.0</td>\n",
              "      <td>151.0</td>\n",
              "      <td>0.0</td>\n",
              "      <td>1213.0</td>\n",
              "      <td>34.0</td>\n",
              "      <td>59.0</td>\n",
              "      <td>0.0</td>\n",
              "      <td>...</td>\n",
              "      <td>0.0</td>\n",
              "      <td>70859.0</td>\n",
              "      <td>0.0</td>\n",
              "      <td>0.0</td>\n",
              "      <td>40834.0</td>\n",
              "      <td>1456810.0</td>\n",
              "      <td>208974.0</td>\n",
              "      <td>181351.0</td>\n",
              "      <td>23109.0</td>\n",
              "      <td>15169.0</td>\n",
              "    </tr>\n",
              "    <tr>\n",
              "      <th>4</th>\n",
              "      <td>3849.0</td>\n",
              "      <td>174</td>\n",
              "      <td>18206</td>\n",
              "      <td>959.0</td>\n",
              "      <td>153.0</td>\n",
              "      <td>3.0</td>\n",
              "      <td>1086.0</td>\n",
              "      <td>51.0</td>\n",
              "      <td>233.0</td>\n",
              "      <td>0.0</td>\n",
              "      <td>...</td>\n",
              "      <td>2877.0</td>\n",
              "      <td>223447.0</td>\n",
              "      <td>0.0</td>\n",
              "      <td>0.0</td>\n",
              "      <td>48909.0</td>\n",
              "      <td>1041470.0</td>\n",
              "      <td>166866.0</td>\n",
              "      <td>146727.0</td>\n",
              "      <td>17459.0</td>\n",
              "      <td>12318.0</td>\n",
              "    </tr>\n",
              "  </tbody>\n",
              "</table>\n",
              "<p>5 rows × 24 columns</p>\n",
              "</div>\n",
              "      <button class=\"colab-df-convert\" onclick=\"convertToInteractive('df-73503042-f727-4409-bdfb-9858b9f39752')\"\n",
              "              title=\"Convert this dataframe to an interactive table.\"\n",
              "              style=\"display:none;\">\n",
              "        \n",
              "  <svg xmlns=\"http://www.w3.org/2000/svg\" height=\"24px\"viewBox=\"0 0 24 24\"\n",
              "       width=\"24px\">\n",
              "    <path d=\"M0 0h24v24H0V0z\" fill=\"none\"/>\n",
              "    <path d=\"M18.56 5.44l.94 2.06.94-2.06 2.06-.94-2.06-.94-.94-2.06-.94 2.06-2.06.94zm-11 1L8.5 8.5l.94-2.06 2.06-.94-2.06-.94L8.5 2.5l-.94 2.06-2.06.94zm10 10l.94 2.06.94-2.06 2.06-.94-2.06-.94-.94-2.06-.94 2.06-2.06.94z\"/><path d=\"M17.41 7.96l-1.37-1.37c-.4-.4-.92-.59-1.43-.59-.52 0-1.04.2-1.43.59L10.3 9.45l-7.72 7.72c-.78.78-.78 2.05 0 2.83L4 21.41c.39.39.9.59 1.41.59.51 0 1.02-.2 1.41-.59l7.78-7.78 2.81-2.81c.8-.78.8-2.07 0-2.86zM5.41 20L4 18.59l7.72-7.72 1.47 1.35L5.41 20z\"/>\n",
              "  </svg>\n",
              "      </button>\n",
              "      \n",
              "  <style>\n",
              "    .colab-df-container {\n",
              "      display:flex;\n",
              "      flex-wrap:wrap;\n",
              "      gap: 12px;\n",
              "    }\n",
              "\n",
              "    .colab-df-convert {\n",
              "      background-color: #E8F0FE;\n",
              "      border: none;\n",
              "      border-radius: 50%;\n",
              "      cursor: pointer;\n",
              "      display: none;\n",
              "      fill: #1967D2;\n",
              "      height: 32px;\n",
              "      padding: 0 0 0 0;\n",
              "      width: 32px;\n",
              "    }\n",
              "\n",
              "    .colab-df-convert:hover {\n",
              "      background-color: #E2EBFA;\n",
              "      box-shadow: 0px 1px 2px rgba(60, 64, 67, 0.3), 0px 1px 3px 1px rgba(60, 64, 67, 0.15);\n",
              "      fill: #174EA6;\n",
              "    }\n",
              "\n",
              "    [theme=dark] .colab-df-convert {\n",
              "      background-color: #3B4455;\n",
              "      fill: #D2E3FC;\n",
              "    }\n",
              "\n",
              "    [theme=dark] .colab-df-convert:hover {\n",
              "      background-color: #434B5C;\n",
              "      box-shadow: 0px 1px 3px 1px rgba(0, 0, 0, 0.15);\n",
              "      filter: drop-shadow(0px 1px 2px rgba(0, 0, 0, 0.3));\n",
              "      fill: #FFFFFF;\n",
              "    }\n",
              "  </style>\n",
              "\n",
              "      <script>\n",
              "        const buttonEl =\n",
              "          document.querySelector('#df-73503042-f727-4409-bdfb-9858b9f39752 button.colab-df-convert');\n",
              "        buttonEl.style.display =\n",
              "          google.colab.kernel.accessAllowed ? 'block' : 'none';\n",
              "\n",
              "        async function convertToInteractive(key) {\n",
              "          const element = document.querySelector('#df-73503042-f727-4409-bdfb-9858b9f39752');\n",
              "          const dataTable =\n",
              "            await google.colab.kernel.invokeFunction('convertToInteractive',\n",
              "                                                     [key], {});\n",
              "          if (!dataTable) return;\n",
              "\n",
              "          const docLinkHtml = 'Like what you see? Visit the ' +\n",
              "            '<a target=\"_blank\" href=https://colab.research.google.com/notebooks/data_table.ipynb>data table notebook</a>'\n",
              "            + ' to learn more about interactive tables.';\n",
              "          element.innerHTML = '';\n",
              "          dataTable['output_type'] = 'display_data';\n",
              "          await google.colab.output.renderOutput(dataTable, element);\n",
              "          const docLink = document.createElement('div');\n",
              "          docLink.innerHTML = docLinkHtml;\n",
              "          element.appendChild(docLink);\n",
              "        }\n",
              "      </script>\n",
              "    </div>\n",
              "  </div>\n",
              "  "
            ]
          },
          "metadata": {},
          "execution_count": 5
        }
      ]
    },
    {
      "cell_type": "markdown",
      "source": [
        "# Mapa de correlações"
      ],
      "metadata": {
        "id": "dTbISWepEIRQ"
      }
    },
    {
      "cell_type": "code",
      "source": [
        "plt.figure(figsize=(20,20))\n",
        "sns.heatmap(df.corr(), annot=True)\n",
        "plt.show()"
      ],
      "metadata": {
        "colab": {
          "base_uri": "https://localhost:8080/",
          "height": 1000
        },
        "id": "rRCc7rPQD65O",
        "outputId": "6c375a52-4a23-44bc-f30c-b60cd69bf181"
      },
      "execution_count": 6,
      "outputs": [
        {
          "output_type": "display_data",
          "data": {
            "text/plain": [
              "<Figure size 1440x1440 with 2 Axes>"
            ],
            "image/png": "[encoded data removed]"
          },
          "metadata": {
            "needs_background": "light"
          }
        }
      ]
    },
    {
      "cell_type": "markdown",
      "source": [
        "Podemos ver que pelo mapa de correlações, já podemos descartar as variáveis kg_correio e nr_correio_km pois já aparecem como sendo variáveis nulas para as correlações com a quantidade de combustível consumido."
      ],
      "metadata": {
        "id": "3bhgE5BxFbEX"
      }
    },
    {
      "cell_type": "markdown",
      "source": [
        "Para o nosso estudo, vamos considerar somente as variáveis com correlações acima de 0.5 com o consumo de combustível. Assim, as variáveis a serem utilizadas além, claro, da variável alvo de consumo de combustível são:\n",
        "\n",
        "- km_distancia = 0.99\n",
        "- nr_horas_voadas = 1\n",
        "- nr_velocidade_media = 0.8\n",
        "- nr_bagagem_paga_km = 0.54\n",
        "- nr_bagagem_gratis_km = 0.83\n",
        "- nr_ask = 0.97\n",
        "- nr_rpk = 0.89\n",
        "- nr_atk = 0.95\n",
        "- nr_rtk = 0.89"
      ],
      "metadata": {
        "id": "uOgDc30dFzH7"
      }
    },
    {
      "cell_type": "code",
      "source": [
        "df = df[['lt_combustivel', 'km_distancia', 'nr_horas_voadas', 'nr_velocidade_media', 'nr_bagagem_paga_km', 'nr_bagagem_gratis_km',\n",
        "         'nr_ask', 'nr_rpk', 'nr_atk', 'nr_rtk']]\n",
        "\n",
        "df"
      ],
      "metadata": {
        "colab": {
          "base_uri": "https://localhost:8080/",
          "height": 487
        },
        "id": "QLzrJFU6EUFt",
        "outputId": "c5373b18-3561-4043-9374-7de706f9271a"
      },
      "execution_count": 7,
      "outputs": [
        {
          "output_type": "execute_result",
          "data": {
            "text/plain": [
              "       lt_combustivel  km_distancia  nr_horas_voadas  nr_velocidade_media  \\\n",
              "0              4185.0         943.0          1.66667               565.58   \n",
              "1              4324.0         959.0          1.76667               543.11   \n",
              "2              8081.0        2129.0          3.16667               672.34   \n",
              "3              4603.0        1201.0          1.81667               660.93   \n",
              "4              3849.0         959.0          1.53333               625.75   \n",
              "...               ...           ...              ...                  ...   \n",
              "53565          7467.0        2129.0          2.83333               751.44   \n",
              "53566          2457.0         499.0          1.08333               460.37   \n",
              "53567          7733.0        2101.0          2.96667               708.16   \n",
              "53568          7676.0        2048.0          2.93333               698.35   \n",
              "53569          6945.0        1864.0          2.63333               708.02   \n",
              "\n",
              "       nr_bagagem_paga_km  nr_bagagem_gratis_km    nr_ask    nr_rpk   nr_atk  \\\n",
              "0                 10373.0              933570.0  164082.0  115989.0  14600.0   \n",
              "1                 36442.0             1426030.0  158235.0  154399.0  17111.0   \n",
              "2                 61741.0             2967830.0  370446.0  336382.0  38754.0   \n",
              "3                 40834.0             1456810.0  208974.0  181351.0  23109.0   \n",
              "4                 48909.0             1041470.0  166866.0  146727.0  17459.0   \n",
              "...                   ...                   ...       ...       ...      ...   \n",
              "53565            172449.0             2659120.0  351285.0  300189.0  33974.0   \n",
              "53566             30439.0              775446.0   86826.0   67864.0   8161.0   \n",
              "53567            136565.0             3204020.0  365574.0  327756.0  40057.0   \n",
              "53568            206848.0             2750460.0  356352.0  284672.0  37906.0   \n",
              "53569             55920.0             1317850.0  324336.0  191992.0  27764.0   \n",
              "\n",
              "        nr_rtk  \n",
              "0       9643.0  \n",
              "1      13044.0  \n",
              "2      28319.0  \n",
              "3      15169.0  \n",
              "4      12318.0  \n",
              "...        ...  \n",
              "53565  25345.0  \n",
              "53566   6007.0  \n",
              "53567  27922.0  \n",
              "53568  24502.0  \n",
              "53569  16686.0  \n",
              "\n",
              "[53570 rows x 10 columns]"
            ],
            "text/html": [
              "\n",
              "  <div id=\"df-e27ca682-7a09-4ed9-864d-eb7ec1348512\">\n",
              "    <div class=\"colab-df-container\">\n",
              "      <div>\n",
              "<style scoped>\n",
              "    .dataframe tbody tr th:only-of-type {\n",
              "        vertical-align: middle;\n",
              "    }\n",
              "\n",
              "    .dataframe tbody tr th {\n",
              "        vertical-align: top;\n",
              "    }\n",
              "\n",
              "    .dataframe thead th {\n",
              "        text-align: right;\n",
              "    }\n",
              "</style>\n",
              "<table border=\"1\" class=\"dataframe\">\n",
              "  <thead>\n",
              "    <tr style=\"text-align: right;\">\n",
              "      <th></th>\n",
              "      <th>lt_combustivel</th>\n",
              "      <th>km_distancia</th>\n",
              "      <th>nr_horas_voadas</th>\n",
              "      <th>nr_velocidade_media</th>\n",
              "      <th>nr_bagagem_paga_km</th>\n",
              "      <th>nr_bagagem_gratis_km</th>\n",
              "      <th>nr_ask</th>\n",
              "      <th>nr_rpk</th>\n",
              "      <th>nr_atk</th>\n",
              "      <th>nr_rtk</th>\n",
              "    </tr>\n",
              "  </thead>\n",
              "  <tbody>\n",
              "    <tr>\n",
              "      <th>0</th>\n",
              "      <td>4185.0</td>\n",
              "      <td>943.0</td>\n",
              "      <td>1.66667</td>\n",
              "      <td>565.58</td>\n",
              "      <td>10373.0</td>\n",
              "      <td>933570.0</td>\n",
              "      <td>164082.0</td>\n",
              "      <td>115989.0</td>\n",
              "      <td>14600.0</td>\n",
              "      <td>9643.0</td>\n",
              "    </tr>\n",
              "    <tr>\n",
              "      <th>1</th>\n",
              "      <td>4324.0</td>\n",
              "      <td>959.0</td>\n",
              "      <td>1.76667</td>\n",
              "      <td>543.11</td>\n",
              "      <td>36442.0</td>\n",
              "      <td>1426030.0</td>\n",
              "      <td>158235.0</td>\n",
              "      <td>154399.0</td>\n",
              "      <td>17111.0</td>\n",
              "      <td>13044.0</td>\n",
              "    </tr>\n",
              "    <tr>\n",
              "      <th>2</th>\n",
              "      <td>8081.0</td>\n",
              "      <td>2129.0</td>\n",
              "      <td>3.16667</td>\n",
              "      <td>672.34</td>\n",
              "      <td>61741.0</td>\n",
              "      <td>2967830.0</td>\n",
              "      <td>370446.0</td>\n",
              "      <td>336382.0</td>\n",
              "      <td>38754.0</td>\n",
              "      <td>28319.0</td>\n",
              "    </tr>\n",
              "    <tr>\n",
              "      <th>3</th>\n",
              "      <td>4603.0</td>\n",
              "      <td>1201.0</td>\n",
              "      <td>1.81667</td>\n",
              "      <td>660.93</td>\n",
              "      <td>40834.0</td>\n",
              "      <td>1456810.0</td>\n",
              "      <td>208974.0</td>\n",
              "      <td>181351.0</td>\n",
              "      <td>23109.0</td>\n",
              "      <td>15169.0</td>\n",
              "    </tr>\n",
              "    <tr>\n",
              "      <th>4</th>\n",
              "      <td>3849.0</td>\n",
              "      <td>959.0</td>\n",
              "      <td>1.53333</td>\n",
              "      <td>625.75</td>\n",
              "      <td>48909.0</td>\n",
              "      <td>1041470.0</td>\n",
              "      <td>166866.0</td>\n",
              "      <td>146727.0</td>\n",
              "      <td>17459.0</td>\n",
              "      <td>12318.0</td>\n",
              "    </tr>\n",
              "    <tr>\n",
              "      <th>...</th>\n",
              "      <td>...</td>\n",
              "      <td>...</td>\n",
              "      <td>...</td>\n",
              "      <td>...</td>\n",
              "      <td>...</td>\n",
              "      <td>...</td>\n",
              "      <td>...</td>\n",
              "      <td>...</td>\n",
              "      <td>...</td>\n",
              "      <td>...</td>\n",
              "    </tr>\n",
              "    <tr>\n",
              "      <th>53565</th>\n",
              "      <td>7467.0</td>\n",
              "      <td>2129.0</td>\n",
              "      <td>2.83333</td>\n",
              "      <td>751.44</td>\n",
              "      <td>172449.0</td>\n",
              "      <td>2659120.0</td>\n",
              "      <td>351285.0</td>\n",
              "      <td>300189.0</td>\n",
              "      <td>33974.0</td>\n",
              "      <td>25345.0</td>\n",
              "    </tr>\n",
              "    <tr>\n",
              "      <th>53566</th>\n",
              "      <td>2457.0</td>\n",
              "      <td>499.0</td>\n",
              "      <td>1.08333</td>\n",
              "      <td>460.37</td>\n",
              "      <td>30439.0</td>\n",
              "      <td>775446.0</td>\n",
              "      <td>86826.0</td>\n",
              "      <td>67864.0</td>\n",
              "      <td>8161.0</td>\n",
              "      <td>6007.0</td>\n",
              "    </tr>\n",
              "    <tr>\n",
              "      <th>53567</th>\n",
              "      <td>7733.0</td>\n",
              "      <td>2101.0</td>\n",
              "      <td>2.96667</td>\n",
              "      <td>708.16</td>\n",
              "      <td>136565.0</td>\n",
              "      <td>3204020.0</td>\n",
              "      <td>365574.0</td>\n",
              "      <td>327756.0</td>\n",
              "      <td>40057.0</td>\n",
              "      <td>27922.0</td>\n",
              "    </tr>\n",
              "    <tr>\n",
              "      <th>53568</th>\n",
              "      <td>7676.0</td>\n",
              "      <td>2048.0</td>\n",
              "      <td>2.93333</td>\n",
              "      <td>698.35</td>\n",
              "      <td>206848.0</td>\n",
              "      <td>2750460.0</td>\n",
              "      <td>356352.0</td>\n",
              "      <td>284672.0</td>\n",
              "      <td>37906.0</td>\n",
              "      <td>24502.0</td>\n",
              "    </tr>\n",
              "    <tr>\n",
              "      <th>53569</th>\n",
              "      <td>6945.0</td>\n",
              "      <td>1864.0</td>\n",
              "      <td>2.63333</td>\n",
              "      <td>708.02</td>\n",
              "      <td>55920.0</td>\n",
              "      <td>1317850.0</td>\n",
              "      <td>324336.0</td>\n",
              "      <td>191992.0</td>\n",
              "      <td>27764.0</td>\n",
              "      <td>16686.0</td>\n",
              "    </tr>\n",
              "  </tbody>\n",
              "</table>\n",
              "<p>53570 rows × 10 columns</p>\n",
              "</div>\n",
              "      <button class=\"colab-df-convert\" onclick=\"convertToInteractive('df-e27ca682-7a09-4ed9-864d-eb7ec1348512')\"\n",
              "              title=\"Convert this dataframe to an interactive table.\"\n",
              "              style=\"display:none;\">\n",
              "        \n",
              "  <svg xmlns=\"http://www.w3.org/2000/svg\" height=\"24px\"viewBox=\"0 0 24 24\"\n",
              "       width=\"24px\">\n",
              "    <path d=\"M0 0h24v24H0V0z\" fill=\"none\"/>\n",
              "    <path d=\"M18.56 5.44l.94 2.06.94-2.06 2.06-.94-2.06-.94-.94-2.06-.94 2.06-2.06.94zm-11 1L8.5 8.5l.94-2.06 2.06-.94-2.06-.94L8.5 2.5l-.94 2.06-2.06.94zm10 10l.94 2.06.94-2.06 2.06-.94-2.06-.94-.94-2.06-.94 2.06-2.06.94z\"/><path d=\"M17.41 7.96l-1.37-1.37c-.4-.4-.92-.59-1.43-.59-.52 0-1.04.2-1.43.59L10.3 9.45l-7.72 7.72c-.78.78-.78 2.05 0 2.83L4 21.41c.39.39.9.59 1.41.59.51 0 1.02-.2 1.41-.59l7.78-7.78 2.81-2.81c.8-.78.8-2.07 0-2.86zM5.41 20L4 18.59l7.72-7.72 1.47 1.35L5.41 20z\"/>\n",
              "  </svg>\n",
              "      </button>\n",
              "      \n",
              "  <style>\n",
              "    .colab-df-container {\n",
              "      display:flex;\n",
              "      flex-wrap:wrap;\n",
              "      gap: 12px;\n",
              "    }\n",
              "\n",
              "    .colab-df-convert {\n",
              "      background-color: #E8F0FE;\n",
              "      border: none;\n",
              "      border-radius: 50%;\n",
              "      cursor: pointer;\n",
              "      display: none;\n",
              "      fill: #1967D2;\n",
              "      height: 32px;\n",
              "      padding: 0 0 0 0;\n",
              "      width: 32px;\n",
              "    }\n",
              "\n",
              "    .colab-df-convert:hover {\n",
              "      background-color: #E2EBFA;\n",
              "      box-shadow: 0px 1px 2px rgba(60, 64, 67, 0.3), 0px 1px 3px 1px rgba(60, 64, 67, 0.15);\n",
              "      fill: #174EA6;\n",
              "    }\n",
              "\n",
              "    [theme=dark] .colab-df-convert {\n",
              "      background-color: #3B4455;\n",
              "      fill: #D2E3FC;\n",
              "    }\n",
              "\n",
              "    [theme=dark] .colab-df-convert:hover {\n",
              "      background-color: #434B5C;\n",
              "      box-shadow: 0px 1px 3px 1px rgba(0, 0, 0, 0.15);\n",
              "      filter: drop-shadow(0px 1px 2px rgba(0, 0, 0, 0.3));\n",
              "      fill: #FFFFFF;\n",
              "    }\n",
              "  </style>\n",
              "\n",
              "      <script>\n",
              "        const buttonEl =\n",
              "          document.querySelector('#df-e27ca682-7a09-4ed9-864d-eb7ec1348512 button.colab-df-convert');\n",
              "        buttonEl.style.display =\n",
              "          google.colab.kernel.accessAllowed ? 'block' : 'none';\n",
              "\n",
              "        async function convertToInteractive(key) {\n",
              "          const element = document.querySelector('#df-e27ca682-7a09-4ed9-864d-eb7ec1348512');\n",
              "          const dataTable =\n",
              "            await google.colab.kernel.invokeFunction('convertToInteractive',\n",
              "                                                     [key], {});\n",
              "          if (!dataTable) return;\n",
              "\n",
              "          const docLinkHtml = 'Like what you see? Visit the ' +\n",
              "            '<a target=\"_blank\" href=https://colab.research.google.com/notebooks/data_table.ipynb>data table notebook</a>'\n",
              "            + ' to learn more about interactive tables.';\n",
              "          element.innerHTML = '';\n",
              "          dataTable['output_type'] = 'display_data';\n",
              "          await google.colab.output.renderOutput(dataTable, element);\n",
              "          const docLink = document.createElement('div');\n",
              "          docLink.innerHTML = docLinkHtml;\n",
              "          element.appendChild(docLink);\n",
              "        }\n",
              "      </script>\n",
              "    </div>\n",
              "  </div>\n",
              "  "
            ]
          },
          "metadata": {},
          "execution_count": 7
        }
      ]
    },
    {
      "cell_type": "markdown",
      "source": [
        "# Separação das variáveis entre features e labels"
      ],
      "metadata": {
        "id": "2eZ2pZqfHcUe"
      }
    },
    {
      "cell_type": "markdown",
      "source": [
        "Para fazer a separação, já utilizarei o método .values, assim a base já se converte automaticamente para arrays numpy."
      ],
      "metadata": {
        "id": "YH3I37_3HhFK"
      }
    },
    {
      "cell_type": "code",
      "source": [
        "previsores = df.iloc[:,1:].values\n",
        "consumo = df.iloc[:,0].values"
      ],
      "metadata": {
        "id": "ZD4xSiNUHqR5"
      },
      "execution_count": 8,
      "outputs": []
    },
    {
      "cell_type": "code",
      "source": [
        "type(previsores), type(consumo)"
      ],
      "metadata": {
        "colab": {
          "base_uri": "https://localhost:8080/"
        },
        "id": "8k61woUmHxFz",
        "outputId": "8c9ecf6d-bea1-468d-c668-26ae76e46b72"
      },
      "execution_count": 9,
      "outputs": [
        {
          "output_type": "execute_result",
          "data": {
            "text/plain": [
              "(numpy.ndarray, numpy.ndarray)"
            ]
          },
          "metadata": {},
          "execution_count": 9
        }
      ]
    },
    {
      "cell_type": "markdown",
      "source": [
        "# Normalizando os dados"
      ],
      "metadata": {
        "id": "8tXVMZ7NHHLV"
      }
    },
    {
      "cell_type": "markdown",
      "source": [
        "Como temos dados com escalas muito diferentes, precisamos colocar todos esses dados na mesma escala para que o modelo consiga fazer o treinamento e a predição sem fazer diferenciação entre as variáveis. Para isso utilizaremos o médod do MinMaxScaler do sklearn."
      ],
      "metadata": {
        "id": "s7OMlelFHLZc"
      }
    },
    {
      "cell_type": "code",
      "source": [
        "normalizador_previsores = MinMaxScaler()\n",
        "normalizador_consumo = MinMaxScaler()\n"
      ],
      "metadata": {
        "id": "fk1FB6Z0HE2g"
      },
      "execution_count": 10,
      "outputs": []
    },
    {
      "cell_type": "code",
      "source": [
        "previsores = normalizador_previsores.fit_transform(previsores)\n",
        "consumo = normalizador_consumo.fit_transform(consumo.reshape(-1,1))"
      ],
      "metadata": {
        "id": "UJufvu3WH4rd"
      },
      "execution_count": 11,
      "outputs": []
    },
    {
      "cell_type": "code",
      "source": [
        "previsores"
      ],
      "metadata": {
        "colab": {
          "base_uri": "https://localhost:8080/"
        },
        "id": "zMTQFrQiH_wc",
        "outputId": "69e84742-3ee8-4195-d6cc-9d589c89487a"
      },
      "execution_count": 12,
      "outputs": [
        {
          "output_type": "execute_result",
          "data": {
            "text/plain": [
              "array([[0.2673934 , 0.2788111 , 0.17329366, ..., 0.22497585, 0.2372672 ,\n",
              "        0.18099403],\n",
              "       [0.27252324, 0.30111593, 0.16435468, ..., 0.29947708, 0.27807391,\n",
              "        0.24482901],\n",
              "       [0.64764348, 0.61338361, 0.21576475, ..., 0.65245693, 0.62979816,\n",
              "        0.53153272],\n",
              "       ...,\n",
              "       [0.63866624, 0.56877395, 0.2300146 , ..., 0.63572567, 0.65097345,\n",
              "        0.52408123],\n",
              "       [0.62167361, 0.56133751, 0.226112  , ..., 0.55215862, 0.61601716,\n",
              "        0.45988964],\n",
              "       [0.56268035, 0.49442301, 0.22995891, ..., 0.37239362, 0.45119771,\n",
              "        0.31318743]])"
            ]
          },
          "metadata": {},
          "execution_count": 12
        }
      ]
    },
    {
      "cell_type": "code",
      "source": [
        "consumo"
      ],
      "metadata": {
        "colab": {
          "base_uri": "https://localhost:8080/"
        },
        "id": "Dj_-ZB_rIAm0",
        "outputId": "0fc25eb2-d9d7-4ce7-d14a-eec7a0c5615e"
      },
      "execution_count": 13,
      "outputs": [
        {
          "output_type": "execute_result",
          "data": {
            "text/plain": [
              "array([[0.2812076 ],\n",
              "       [0.29299525],\n",
              "       [0.61160109],\n",
              "       ...,\n",
              "       [0.58208955],\n",
              "       [0.57725577],\n",
              "       [0.51526459]])"
            ]
          },
          "metadata": {},
          "execution_count": 13
        }
      ]
    },
    {
      "cell_type": "markdown",
      "source": [
        "Podemos ver agora que todos os dados possuem a mesma escala."
      ],
      "metadata": {
        "id": "p3VAnltgIC0W"
      }
    },
    {
      "cell_type": "markdown",
      "source": [
        "# Separando entre dados de treino e teste"
      ],
      "metadata": {
        "id": "4zUaW2_aIFyJ"
      }
    },
    {
      "cell_type": "code",
      "source": [
        "x_train, x_test, y_train, y_test = train_test_split(previsores, consumo, test_size=0.25, shuffle=True)"
      ],
      "metadata": {
        "id": "NfXLqiGXIB00"
      },
      "execution_count": 14,
      "outputs": []
    },
    {
      "cell_type": "code",
      "source": [
        "x_train.shape, x_test.shape, y_train.shape, y_test.shape"
      ],
      "metadata": {
        "colab": {
          "base_uri": "https://localhost:8080/"
        },
        "id": "JCo4ZzgPIQ5O",
        "outputId": "8c60ddf0-82c8-4273-e715-a1852fa0d083"
      },
      "execution_count": 15,
      "outputs": [
        {
          "output_type": "execute_result",
          "data": {
            "text/plain": [
              "((40177, 9), (13393, 9), (40177, 1), (13393, 1))"
            ]
          },
          "metadata": {},
          "execution_count": 15
        }
      ]
    },
    {
      "cell_type": "markdown",
      "source": [
        "Com a base devidamente separada entre dados de treino e teste, podemos agora construir nosso modelo."
      ],
      "metadata": {
        "id": "D4-vod9nIYMX"
      }
    },
    {
      "cell_type": "markdown",
      "source": [
        "# Construindo o modelo"
      ],
      "metadata": {
        "id": "y-z9GnxhInLG"
      }
    },
    {
      "cell_type": "code",
      "source": [
        "model = Sequential()\n",
        "model.add(Dense(units = 500, activation='relu', input_dim=9))\n",
        "model.add(Dropout(0.25))\n",
        "model.add(Dense(units=500, activation='relu'))\n",
        "model.add(Dropout(0.25))\n",
        "model.add(Dense(units=500, activation='relu'))\n",
        "model.add(Dropout(0.25))\n",
        "model.add(Dense(units=500, activation='relu'))\n",
        "model.add(Dropout(0.25))\n",
        "model.add(Dense(units=500, activation='relu'))\n",
        "model.add(Dropout(0.25))\n",
        "model.add(Dense(units=1, activation='sigmoid'))"
      ],
      "metadata": {
        "id": "nNIhFkosIVr1"
      },
      "execution_count": 16,
      "outputs": []
    },
    {
      "cell_type": "code",
      "source": [
        "model.compile(optimizer='adam', loss='mean_squared_error', metrics=['mean_absolute_error'])"
      ],
      "metadata": {
        "id": "y_dFeDAwI1-g"
      },
      "execution_count": 17,
      "outputs": []
    },
    {
      "cell_type": "markdown",
      "source": [
        "Colocarei alguns callbacks do pacote do keras que são eles:\n",
        "\n",
        "EarlyStopping = O treinamento se encerra com antecedência caso não haja melhoria significativa durante algumas épocas.\n",
        "ReduceLROnPlateu = Altera a taxa de aprendizado do modelo caso não haja melhoria significativa durante algumas épocas.\n",
        "ModelCheckpoint = Salva automaticamente os pesos da rede neural a cada melhoria do modelo."
      ],
      "metadata": {
        "id": "nHsxs1EiJFA1"
      }
    },
    {
      "cell_type": "code",
      "source": [
        "es = EarlyStopping(monitor = 'loss', min_delta = 1e-10, patience = 10, verbose = 1)\n",
        "rlr = ReduceLROnPlateau(monitor = 'loss', factor = 0.2, patience = 5, verbose = 1)\n",
        "mcp = ModelCheckpoint(filepath = 'pesos.h5', monitor = 'loss', \n",
        "                      save_best_only = True, verbose = 1)"
      ],
      "metadata": {
        "id": "wKMQBL4cJAuP"
      },
      "execution_count": 18,
      "outputs": []
    },
    {
      "cell_type": "code",
      "source": [
        "model.fit(x_train, y_train, epochs=100, batch_size=50, callbacks=[es, rlr, mcp])"
      ],
      "metadata": {
        "colab": {
          "base_uri": "https://localhost:8080/"
        },
        "id": "iSf2ti04Jgu5",
        "outputId": "7f01d33b-89df-4e94-d920-8c9b12498bac"
      },
      "execution_count": 19,
      "outputs": [
        {
          "output_type": "stream",
          "name": "stdout",
          "text": [
            "Epoch 1/100\n",
            "797/804 [============================>.] - ETA: 0s - loss: 0.0015 - mean_absolute_error: 0.0251\n",
            "Epoch 1: loss improved from inf to 0.00151, saving model to pesos.h5\n",
            "804/804 [==============================] - 8s 5ms/step - loss: 0.0015 - mean_absolute_error: 0.0251 - lr: 0.0010\n",
            "Epoch 2/100\n",
            "802/804 [============================>.] - ETA: 0s - loss: 5.5500e-04 - mean_absolute_error: 0.0179\n",
            "Epoch 2: loss improved from 0.00151 to 0.00055, saving model to pesos.h5\n",
            "804/804 [==============================] - 4s 5ms/step - loss: 5.5449e-04 - mean_absolute_error: 0.0179 - lr: 0.0010\n",
            "Epoch 3/100\n",
            "797/804 [============================>.] - ETA: 0s - loss: 5.1708e-04 - mean_absolute_error: 0.0173\n",
            "Epoch 3: loss improved from 0.00055 to 0.00052, saving model to pesos.h5\n",
            "804/804 [==============================] - 4s 5ms/step - loss: 5.1681e-04 - mean_absolute_error: 0.0173 - lr: 0.0010\n",
            "Epoch 4/100\n",
            "801/804 [============================>.] - ETA: 0s - loss: 5.0531e-04 - mean_absolute_error: 0.0171\n",
            "Epoch 4: loss improved from 0.00052 to 0.00050, saving model to pesos.h5\n",
            "804/804 [==============================] - 5s 6ms/step - loss: 5.0496e-04 - mean_absolute_error: 0.0171 - lr: 0.0010\n",
            "Epoch 5/100\n",
            "802/804 [============================>.] - ETA: 0s - loss: 5.0114e-04 - mean_absolute_error: 0.0170\n",
            "Epoch 5: loss improved from 0.00050 to 0.00050, saving model to pesos.h5\n",
            "804/804 [==============================] - 7s 8ms/step - loss: 5.0094e-04 - mean_absolute_error: 0.0170 - lr: 0.0010\n",
            "Epoch 6/100\n",
            "804/804 [==============================] - ETA: 0s - loss: 4.6005e-04 - mean_absolute_error: 0.0162\n",
            "Epoch 6: loss improved from 0.00050 to 0.00046, saving model to pesos.h5\n",
            "804/804 [==============================] - 6s 8ms/step - loss: 4.6005e-04 - mean_absolute_error: 0.0162 - lr: 0.0010\n",
            "Epoch 7/100\n",
            "802/804 [============================>.] - ETA: 0s - loss: 4.9144e-04 - mean_absolute_error: 0.0168\n",
            "Epoch 7: ReduceLROnPlateau reducing learning rate to 0.00020000000949949026.\n",
            "\n",
            "Epoch 7: loss did not improve from 0.00046\n",
            "804/804 [==============================] - 7s 9ms/step - loss: 4.9184e-04 - mean_absolute_error: 0.0168 - lr: 0.0010\n",
            "Epoch 8/100\n",
            "798/804 [============================>.] - ETA: 0s - loss: 3.6622e-04 - mean_absolute_error: 0.0142\n",
            "Epoch 8: loss improved from 0.00046 to 0.00037, saving model to pesos.h5\n",
            "804/804 [==============================] - 6s 7ms/step - loss: 3.6712e-04 - mean_absolute_error: 0.0142 - lr: 2.0000e-04\n",
            "Epoch 9/100\n",
            "801/804 [============================>.] - ETA: 0s - loss: 3.5094e-04 - mean_absolute_error: 0.0140\n",
            "Epoch 9: loss improved from 0.00037 to 0.00035, saving model to pesos.h5\n",
            "804/804 [==============================] - 4s 5ms/step - loss: 3.5086e-04 - mean_absolute_error: 0.0140 - lr: 2.0000e-04\n",
            "Epoch 10/100\n",
            "796/804 [============================>.] - ETA: 0s - loss: 3.4831e-04 - mean_absolute_error: 0.0139\n",
            "Epoch 10: loss improved from 0.00035 to 0.00035, saving model to pesos.h5\n",
            "804/804 [==============================] - 4s 5ms/step - loss: 3.4896e-04 - mean_absolute_error: 0.0139 - lr: 2.0000e-04\n",
            "Epoch 11/100\n",
            "795/804 [============================>.] - ETA: 0s - loss: 3.3907e-04 - mean_absolute_error: 0.0136\n",
            "Epoch 11: loss improved from 0.00035 to 0.00034, saving model to pesos.h5\n",
            "804/804 [==============================] - 4s 5ms/step - loss: 3.3836e-04 - mean_absolute_error: 0.0136 - lr: 2.0000e-04\n",
            "Epoch 12/100\n",
            "798/804 [============================>.] - ETA: 0s - loss: 3.3899e-04 - mean_absolute_error: 0.0137\n",
            "Epoch 12: loss did not improve from 0.00034\n",
            "804/804 [==============================] - 4s 5ms/step - loss: 3.3858e-04 - mean_absolute_error: 0.0137 - lr: 2.0000e-04\n",
            "Epoch 13/100\n",
            "803/804 [============================>.] - ETA: 0s - loss: 3.3281e-04 - mean_absolute_error: 0.0136\n",
            "Epoch 13: ReduceLROnPlateau reducing learning rate to 4.0000001899898055e-05.\n",
            "\n",
            "Epoch 13: loss improved from 0.00034 to 0.00033, saving model to pesos.h5\n",
            "804/804 [==============================] - 4s 5ms/step - loss: 3.3296e-04 - mean_absolute_error: 0.0136 - lr: 2.0000e-04\n",
            "Epoch 14/100\n",
            "798/804 [============================>.] - ETA: 0s - loss: 3.1402e-04 - mean_absolute_error: 0.0131\n",
            "Epoch 14: loss improved from 0.00033 to 0.00031, saving model to pesos.h5\n",
            "804/804 [==============================] - 4s 5ms/step - loss: 3.1360e-04 - mean_absolute_error: 0.0131 - lr: 4.0000e-05\n",
            "Epoch 15/100\n",
            "796/804 [============================>.] - ETA: 0s - loss: 3.0681e-04 - mean_absolute_error: 0.0129\n",
            "Epoch 15: loss improved from 0.00031 to 0.00031, saving model to pesos.h5\n",
            "804/804 [==============================] - 4s 5ms/step - loss: 3.0680e-04 - mean_absolute_error: 0.0129 - lr: 4.0000e-05\n",
            "Epoch 16/100\n",
            "797/804 [============================>.] - ETA: 0s - loss: 3.0398e-04 - mean_absolute_error: 0.0128\n",
            "Epoch 16: loss improved from 0.00031 to 0.00030, saving model to pesos.h5\n",
            "804/804 [==============================] - 4s 5ms/step - loss: 3.0456e-04 - mean_absolute_error: 0.0128 - lr: 4.0000e-05\n",
            "Epoch 17/100\n",
            "804/804 [==============================] - ETA: 0s - loss: 3.0444e-04 - mean_absolute_error: 0.0129\n",
            "Epoch 17: loss improved from 0.00030 to 0.00030, saving model to pesos.h5\n",
            "804/804 [==============================] - 4s 5ms/step - loss: 3.0444e-04 - mean_absolute_error: 0.0129 - lr: 4.0000e-05\n",
            "Epoch 18/100\n",
            "802/804 [============================>.] - ETA: 0s - loss: 3.0192e-04 - mean_absolute_error: 0.0128\n",
            "Epoch 18: ReduceLROnPlateau reducing learning rate to 8.000000525498762e-06.\n",
            "\n",
            "Epoch 18: loss improved from 0.00030 to 0.00030, saving model to pesos.h5\n",
            "804/804 [==============================] - 4s 5ms/step - loss: 3.0210e-04 - mean_absolute_error: 0.0128 - lr: 4.0000e-05\n",
            "Epoch 19/100\n",
            "804/804 [==============================] - ETA: 0s - loss: 2.9932e-04 - mean_absolute_error: 0.0128\n",
            "Epoch 19: loss improved from 0.00030 to 0.00030, saving model to pesos.h5\n",
            "804/804 [==============================] - 4s 5ms/step - loss: 2.9932e-04 - mean_absolute_error: 0.0128 - lr: 8.0000e-06\n",
            "Epoch 20/100\n",
            "800/804 [============================>.] - ETA: 0s - loss: 2.9955e-04 - mean_absolute_error: 0.0127\n",
            "Epoch 20: loss did not improve from 0.00030\n",
            "804/804 [==============================] - 4s 5ms/step - loss: 2.9998e-04 - mean_absolute_error: 0.0127 - lr: 8.0000e-06\n",
            "Epoch 21/100\n",
            "801/804 [============================>.] - ETA: 0s - loss: 2.9395e-04 - mean_absolute_error: 0.0126\n",
            "Epoch 21: loss improved from 0.00030 to 0.00029, saving model to pesos.h5\n",
            "804/804 [==============================] - 5s 6ms/step - loss: 2.9419e-04 - mean_absolute_error: 0.0126 - lr: 8.0000e-06\n",
            "Epoch 22/100\n",
            "802/804 [============================>.] - ETA: 0s - loss: 2.9755e-04 - mean_absolute_error: 0.0127\n",
            "Epoch 22: loss did not improve from 0.00029\n",
            "804/804 [==============================] - 4s 5ms/step - loss: 2.9752e-04 - mean_absolute_error: 0.0127 - lr: 8.0000e-06\n",
            "Epoch 23/100\n",
            "804/804 [==============================] - ETA: 0s - loss: 2.9918e-04 - mean_absolute_error: 0.0127\n",
            "Epoch 23: ReduceLROnPlateau reducing learning rate to 1.6000001778593287e-06.\n",
            "\n",
            "Epoch 23: loss did not improve from 0.00029\n",
            "804/804 [==============================] - 4s 5ms/step - loss: 2.9918e-04 - mean_absolute_error: 0.0127 - lr: 8.0000e-06\n",
            "Epoch 24/100\n",
            "803/804 [============================>.] - ETA: 0s - loss: 2.9977e-04 - mean_absolute_error: 0.0127\n",
            "Epoch 24: loss did not improve from 0.00029\n",
            "804/804 [==============================] - 4s 5ms/step - loss: 2.9970e-04 - mean_absolute_error: 0.0127 - lr: 1.6000e-06\n",
            "Epoch 25/100\n",
            "796/804 [============================>.] - ETA: 0s - loss: 2.9499e-04 - mean_absolute_error: 0.0126\n",
            "Epoch 25: loss did not improve from 0.00029\n",
            "804/804 [==============================] - 4s 5ms/step - loss: 2.9506e-04 - mean_absolute_error: 0.0126 - lr: 1.6000e-06\n",
            "Epoch 26/100\n",
            "802/804 [============================>.] - ETA: 0s - loss: 2.9743e-04 - mean_absolute_error: 0.0127\n",
            "Epoch 26: loss did not improve from 0.00029\n",
            "804/804 [==============================] - 4s 5ms/step - loss: 2.9754e-04 - mean_absolute_error: 0.0127 - lr: 1.6000e-06\n",
            "Epoch 27/100\n",
            "797/804 [============================>.] - ETA: 0s - loss: 2.9515e-04 - mean_absolute_error: 0.0126\n",
            "Epoch 27: loss did not improve from 0.00029\n",
            "804/804 [==============================] - 4s 5ms/step - loss: 2.9546e-04 - mean_absolute_error: 0.0126 - lr: 1.6000e-06\n",
            "Epoch 28/100\n",
            "802/804 [============================>.] - ETA: 0s - loss: 2.9376e-04 - mean_absolute_error: 0.0126\n",
            "Epoch 28: ReduceLROnPlateau reducing learning rate to 3.200000264769187e-07.\n",
            "\n",
            "Epoch 28: loss improved from 0.00029 to 0.00029, saving model to pesos.h5\n",
            "804/804 [==============================] - 4s 5ms/step - loss: 2.9367e-04 - mean_absolute_error: 0.0126 - lr: 1.6000e-06\n",
            "Epoch 29/100\n",
            "801/804 [============================>.] - ETA: 0s - loss: 2.9535e-04 - mean_absolute_error: 0.0126\n",
            "Epoch 29: loss did not improve from 0.00029\n",
            "804/804 [==============================] - 5s 6ms/step - loss: 2.9547e-04 - mean_absolute_error: 0.0126 - lr: 3.2000e-07\n",
            "Epoch 30/100\n",
            "795/804 [============================>.] - ETA: 0s - loss: 2.9621e-04 - mean_absolute_error: 0.0126\n",
            "Epoch 30: loss did not improve from 0.00029\n",
            "804/804 [==============================] - 4s 5ms/step - loss: 2.9621e-04 - mean_absolute_error: 0.0126 - lr: 3.2000e-07\n",
            "Epoch 31/100\n",
            "803/804 [============================>.] - ETA: 0s - loss: 2.9896e-04 - mean_absolute_error: 0.0127\n",
            "Epoch 31: loss did not improve from 0.00029\n",
            "804/804 [==============================] - 4s 5ms/step - loss: 2.9897e-04 - mean_absolute_error: 0.0127 - lr: 3.2000e-07\n",
            "Epoch 32/100\n",
            "804/804 [==============================] - ETA: 0s - loss: 2.9648e-04 - mean_absolute_error: 0.0126\n",
            "Epoch 32: loss did not improve from 0.00029\n",
            "804/804 [==============================] - 4s 5ms/step - loss: 2.9648e-04 - mean_absolute_error: 0.0126 - lr: 3.2000e-07\n",
            "Epoch 33/100\n",
            "802/804 [============================>.] - ETA: 0s - loss: 2.9488e-04 - mean_absolute_error: 0.0126\n",
            "Epoch 33: ReduceLROnPlateau reducing learning rate to 6.400000529538374e-08.\n",
            "\n",
            "Epoch 33: loss did not improve from 0.00029\n",
            "804/804 [==============================] - 4s 5ms/step - loss: 2.9499e-04 - mean_absolute_error: 0.0126 - lr: 3.2000e-07\n",
            "Epoch 34/100\n",
            "801/804 [============================>.] - ETA: 0s - loss: 2.9455e-04 - mean_absolute_error: 0.0126\n",
            "Epoch 34: loss did not improve from 0.00029\n",
            "804/804 [==============================] - 4s 5ms/step - loss: 2.9431e-04 - mean_absolute_error: 0.0126 - lr: 6.4000e-08\n",
            "Epoch 35/100\n",
            "799/804 [============================>.] - ETA: 0s - loss: 2.9746e-04 - mean_absolute_error: 0.0126\n",
            "Epoch 35: loss did not improve from 0.00029\n",
            "804/804 [==============================] - 5s 6ms/step - loss: 2.9726e-04 - mean_absolute_error: 0.0126 - lr: 6.4000e-08\n",
            "Epoch 36/100\n",
            "802/804 [============================>.] - ETA: 0s - loss: 2.9535e-04 - mean_absolute_error: 0.0126\n",
            "Epoch 36: loss did not improve from 0.00029\n",
            "804/804 [==============================] - 4s 5ms/step - loss: 2.9519e-04 - mean_absolute_error: 0.0126 - lr: 6.4000e-08\n",
            "Epoch 37/100\n",
            "796/804 [============================>.] - ETA: 0s - loss: 2.9560e-04 - mean_absolute_error: 0.0127\n",
            "Epoch 37: loss did not improve from 0.00029\n",
            "804/804 [==============================] - 4s 5ms/step - loss: 2.9509e-04 - mean_absolute_error: 0.0127 - lr: 6.4000e-08\n",
            "Epoch 38/100\n",
            "795/804 [============================>.] - ETA: 0s - loss: 2.9731e-04 - mean_absolute_error: 0.0127\n",
            "Epoch 38: ReduceLROnPlateau reducing learning rate to 1.2800001059076749e-08.\n",
            "\n",
            "Epoch 38: loss did not improve from 0.00029\n",
            "804/804 [==============================] - 4s 5ms/step - loss: 2.9682e-04 - mean_absolute_error: 0.0127 - lr: 6.4000e-08\n",
            "Epoch 38: early stopping\n"
          ]
        },
        {
          "output_type": "execute_result",
          "data": {
            "text/plain": [
              "<keras.callbacks.History at 0x7fda91bc0d90>"
            ]
          },
          "metadata": {},
          "execution_count": 19
        }
      ]
    },
    {
      "cell_type": "markdown",
      "source": [
        "# Fazendo as predições"
      ],
      "metadata": {
        "id": "W93r6xB0K02Q"
      }
    },
    {
      "cell_type": "code",
      "source": [
        "pred = model.predict(x_test)"
      ],
      "metadata": {
        "id": "qIhQ7xUWJpPZ"
      },
      "execution_count": 20,
      "outputs": []
    },
    {
      "cell_type": "markdown",
      "source": [
        "# Avaliando o modelo"
      ],
      "metadata": {
        "id": "8DTW2-mfK6oh"
      }
    },
    {
      "cell_type": "code",
      "source": [
        "print('O modelo obteve um R2 Score de {:.2f}%'.format(r2_score(pred, y_test)))"
      ],
      "metadata": {
        "colab": {
          "base_uri": "https://localhost:8080/"
        },
        "id": "II7eEbquK5Ya",
        "outputId": "0febae20-196a-437e-9bb7-ea66c1a50a1d"
      },
      "execution_count": 21,
      "outputs": [
        {
          "output_type": "stream",
          "name": "stdout",
          "text": [
            "O modelo obteve um R2 Score de 0.99%\n"
          ]
        }
      ]
    },
    {
      "cell_type": "code",
      "source": [
        "print('O erro médio quadrático do modelo foi de {:.5f}'.format(mean_squared_error(pred, y_test)))"
      ],
      "metadata": {
        "colab": {
          "base_uri": "https://localhost:8080/"
        },
        "id": "v5_WVNmvLLrb",
        "outputId": "409678c6-ecb0-42c8-addb-9fdb531d559c"
      },
      "execution_count": 22,
      "outputs": [
        {
          "output_type": "stream",
          "name": "stdout",
          "text": [
            "O erro médio quadrático do modelo foi de 0.00034\n"
          ]
        }
      ]
    },
    {
      "cell_type": "markdown",
      "source": [
        "Com base nas métricas obtidas acima, o modelo pode explicar o consumo de combustível com 99% de precisão com base nas variáveis utilizadas, e tivemos um erro médio quadrático de 0.00034."
      ],
      "metadata": {
        "id": "JRXq64heMOi4"
      }
    },
    {
      "cell_type": "markdown",
      "source": [
        "# Visualizando os dados obtidos"
      ],
      "metadata": {
        "id": "pG6TlvoZNw3m"
      }
    },
    {
      "cell_type": "code",
      "source": [
        "pred_final = pred.reshape(13393)"
      ],
      "metadata": {
        "id": "VtdaACvq7-av"
      },
      "execution_count": 29,
      "outputs": []
    },
    {
      "cell_type": "code",
      "source": [
        "real = y_test.reshape(13393)"
      ],
      "metadata": {
        "id": "KcCF6Gbq8zlm"
      },
      "execution_count": 30,
      "outputs": []
    },
    {
      "cell_type": "code",
      "source": [
        "final = pd.DataFrame(columns=['Real', 'Previsão'])"
      ],
      "metadata": {
        "id": "UIOSGNm88_ha"
      },
      "execution_count": 41,
      "outputs": []
    },
    {
      "cell_type": "code",
      "source": [
        "final['Real'] = real"
      ],
      "metadata": {
        "id": "-wEUpfmc9EZG"
      },
      "execution_count": 42,
      "outputs": []
    },
    {
      "cell_type": "code",
      "source": [
        "final['Previsão'] = pred_final"
      ],
      "metadata": {
        "id": "OGo0nYnE9JYg"
      },
      "execution_count": 43,
      "outputs": []
    },
    {
      "cell_type": "code",
      "source": [
        "final.head()"
      ],
      "metadata": {
        "colab": {
          "base_uri": "https://localhost:8080/",
          "height": 206
        },
        "id": "RgLgtNmi9Ns_",
        "outputId": "17adb796-e5ff-4249-f5f8-0c796ca31c42"
      },
      "execution_count": 44,
      "outputs": [
        {
          "output_type": "execute_result",
          "data": {
            "text/plain": [
              "       Real  Previsão\n",
              "0  0.190723  0.186215\n",
              "1  0.192758  0.196557\n",
              "2  0.482870  0.457500\n",
              "3  0.118894  0.129587\n",
              "4  0.176984  0.187116"
            ],
            "text/html": [
              "\n",
              "  <div id=\"df-14eb0623-6200-417f-b26c-3cb4c7cc1261\">\n",
              "    <div class=\"colab-df-container\">\n",
              "      <div>\n",
              "<style scoped>\n",
              "    .dataframe tbody tr th:only-of-type {\n",
              "        vertical-align: middle;\n",
              "    }\n",
              "\n",
              "    .dataframe tbody tr th {\n",
              "        vertical-align: top;\n",
              "    }\n",
              "\n",
              "    .dataframe thead th {\n",
              "        text-align: right;\n",
              "    }\n",
              "</style>\n",
              "<table border=\"1\" class=\"dataframe\">\n",
              "  <thead>\n",
              "    <tr style=\"text-align: right;\">\n",
              "      <th></th>\n",
              "      <th>Real</th>\n",
              "      <th>Previsão</th>\n",
              "    </tr>\n",
              "  </thead>\n",
              "  <tbody>\n",
              "    <tr>\n",
              "      <th>0</th>\n",
              "      <td>0.190723</td>\n",
              "      <td>0.186215</td>\n",
              "    </tr>\n",
              "    <tr>\n",
              "      <th>1</th>\n",
              "      <td>0.192758</td>\n",
              "      <td>0.196557</td>\n",
              "    </tr>\n",
              "    <tr>\n",
              "      <th>2</th>\n",
              "      <td>0.482870</td>\n",
              "      <td>0.457500</td>\n",
              "    </tr>\n",
              "    <tr>\n",
              "      <th>3</th>\n",
              "      <td>0.118894</td>\n",
              "      <td>0.129587</td>\n",
              "    </tr>\n",
              "    <tr>\n",
              "      <th>4</th>\n",
              "      <td>0.176984</td>\n",
              "      <td>0.187116</td>\n",
              "    </tr>\n",
              "  </tbody>\n",
              "</table>\n",
              "</div>\n",
              "      <button class=\"colab-df-convert\" onclick=\"convertToInteractive('df-14eb0623-6200-417f-b26c-3cb4c7cc1261')\"\n",
              "              title=\"Convert this dataframe to an interactive table.\"\n",
              "              style=\"display:none;\">\n",
              "        \n",
              "  <svg xmlns=\"http://www.w3.org/2000/svg\" height=\"24px\"viewBox=\"0 0 24 24\"\n",
              "       width=\"24px\">\n",
              "    <path d=\"M0 0h24v24H0V0z\" fill=\"none\"/>\n",
              "    <path d=\"M18.56 5.44l.94 2.06.94-2.06 2.06-.94-2.06-.94-.94-2.06-.94 2.06-2.06.94zm-11 1L8.5 8.5l.94-2.06 2.06-.94-2.06-.94L8.5 2.5l-.94 2.06-2.06.94zm10 10l.94 2.06.94-2.06 2.06-.94-2.06-.94-.94-2.06-.94 2.06-2.06.94z\"/><path d=\"M17.41 7.96l-1.37-1.37c-.4-.4-.92-.59-1.43-.59-.52 0-1.04.2-1.43.59L10.3 9.45l-7.72 7.72c-.78.78-.78 2.05 0 2.83L4 21.41c.39.39.9.59 1.41.59.51 0 1.02-.2 1.41-.59l7.78-7.78 2.81-2.81c.8-.78.8-2.07 0-2.86zM5.41 20L4 18.59l7.72-7.72 1.47 1.35L5.41 20z\"/>\n",
              "  </svg>\n",
              "      </button>\n",
              "      \n",
              "  <style>\n",
              "    .colab-df-container {\n",
              "      display:flex;\n",
              "      flex-wrap:wrap;\n",
              "      gap: 12px;\n",
              "    }\n",
              "\n",
              "    .colab-df-convert {\n",
              "      background-color: #E8F0FE;\n",
              "      border: none;\n",
              "      border-radius: 50%;\n",
              "      cursor: pointer;\n",
              "      display: none;\n",
              "      fill: #1967D2;\n",
              "      height: 32px;\n",
              "      padding: 0 0 0 0;\n",
              "      width: 32px;\n",
              "    }\n",
              "\n",
              "    .colab-df-convert:hover {\n",
              "      background-color: #E2EBFA;\n",
              "      box-shadow: 0px 1px 2px rgba(60, 64, 67, 0.3), 0px 1px 3px 1px rgba(60, 64, 67, 0.15);\n",
              "      fill: #174EA6;\n",
              "    }\n",
              "\n",
              "    [theme=dark] .colab-df-convert {\n",
              "      background-color: #3B4455;\n",
              "      fill: #D2E3FC;\n",
              "    }\n",
              "\n",
              "    [theme=dark] .colab-df-convert:hover {\n",
              "      background-color: #434B5C;\n",
              "      box-shadow: 0px 1px 3px 1px rgba(0, 0, 0, 0.15);\n",
              "      filter: drop-shadow(0px 1px 2px rgba(0, 0, 0, 0.3));\n",
              "      fill: #FFFFFF;\n",
              "    }\n",
              "  </style>\n",
              "\n",
              "      <script>\n",
              "        const buttonEl =\n",
              "          document.querySelector('#df-14eb0623-6200-417f-b26c-3cb4c7cc1261 button.colab-df-convert');\n",
              "        buttonEl.style.display =\n",
              "          google.colab.kernel.accessAllowed ? 'block' : 'none';\n",
              "\n",
              "        async function convertToInteractive(key) {\n",
              "          const element = document.querySelector('#df-14eb0623-6200-417f-b26c-3cb4c7cc1261');\n",
              "          const dataTable =\n",
              "            await google.colab.kernel.invokeFunction('convertToInteractive',\n",
              "                                                     [key], {});\n",
              "          if (!dataTable) return;\n",
              "\n",
              "          const docLinkHtml = 'Like what you see? Visit the ' +\n",
              "            '<a target=\"_blank\" href=https://colab.research.google.com/notebooks/data_table.ipynb>data table notebook</a>'\n",
              "            + ' to learn more about interactive tables.';\n",
              "          element.innerHTML = '';\n",
              "          dataTable['output_type'] = 'display_data';\n",
              "          await google.colab.output.renderOutput(dataTable, element);\n",
              "          const docLink = document.createElement('div');\n",
              "          docLink.innerHTML = docLinkHtml;\n",
              "          element.appendChild(docLink);\n",
              "        }\n",
              "      </script>\n",
              "    </div>\n",
              "  </div>\n",
              "  "
            ]
          },
          "metadata": {},
          "execution_count": 44
        }
      ]
    },
    {
      "cell_type": "code",
      "source": [
        "final.sort_values(by='Real', inplace=True)\n",
        "final.head()"
      ],
      "metadata": {
        "colab": {
          "base_uri": "https://localhost:8080/",
          "height": 206
        },
        "id": "hQCLY5eS9O7f",
        "outputId": "ea228169-33a0-4a95-f963-e7de6f8a4867"
      },
      "execution_count": 45,
      "outputs": [
        {
          "output_type": "execute_result",
          "data": {
            "text/plain": [
              "           Real  Previsão\n",
              "5138   0.000000  0.031077\n",
              "3524   0.001018  0.031934\n",
              "10607  0.005597  0.187783\n",
              "2631   0.031462  0.041316\n",
              "3409   0.037398  0.047649"
            ],
            "text/html": [
              "\n",
              "  <div id=\"df-1c03427c-53b3-42a8-a862-5aa53157fdaf\">\n",
              "    <div class=\"colab-df-container\">\n",
              "      <div>\n",
              "<style scoped>\n",
              "    .dataframe tbody tr th:only-of-type {\n",
              "        vertical-align: middle;\n",
              "    }\n",
              "\n",
              "    .dataframe tbody tr th {\n",
              "        vertical-align: top;\n",
              "    }\n",
              "\n",
              "    .dataframe thead th {\n",
              "        text-align: right;\n",
              "    }\n",
              "</style>\n",
              "<table border=\"1\" class=\"dataframe\">\n",
              "  <thead>\n",
              "    <tr style=\"text-align: right;\">\n",
              "      <th></th>\n",
              "      <th>Real</th>\n",
              "      <th>Previsão</th>\n",
              "    </tr>\n",
              "  </thead>\n",
              "  <tbody>\n",
              "    <tr>\n",
              "      <th>5138</th>\n",
              "      <td>0.000000</td>\n",
              "      <td>0.031077</td>\n",
              "    </tr>\n",
              "    <tr>\n",
              "      <th>3524</th>\n",
              "      <td>0.001018</td>\n",
              "      <td>0.031934</td>\n",
              "    </tr>\n",
              "    <tr>\n",
              "      <th>10607</th>\n",
              "      <td>0.005597</td>\n",
              "      <td>0.187783</td>\n",
              "    </tr>\n",
              "    <tr>\n",
              "      <th>2631</th>\n",
              "      <td>0.031462</td>\n",
              "      <td>0.041316</td>\n",
              "    </tr>\n",
              "    <tr>\n",
              "      <th>3409</th>\n",
              "      <td>0.037398</td>\n",
              "      <td>0.047649</td>\n",
              "    </tr>\n",
              "  </tbody>\n",
              "</table>\n",
              "</div>\n",
              "      <button class=\"colab-df-convert\" onclick=\"convertToInteractive('df-1c03427c-53b3-42a8-a862-5aa53157fdaf')\"\n",
              "              title=\"Convert this dataframe to an interactive table.\"\n",
              "              style=\"display:none;\">\n",
              "        \n",
              "  <svg xmlns=\"http://www.w3.org/2000/svg\" height=\"24px\"viewBox=\"0 0 24 24\"\n",
              "       width=\"24px\">\n",
              "    <path d=\"M0 0h24v24H0V0z\" fill=\"none\"/>\n",
              "    <path d=\"M18.56 5.44l.94 2.06.94-2.06 2.06-.94-2.06-.94-.94-2.06-.94 2.06-2.06.94zm-11 1L8.5 8.5l.94-2.06 2.06-.94-2.06-.94L8.5 2.5l-.94 2.06-2.06.94zm10 10l.94 2.06.94-2.06 2.06-.94-2.06-.94-.94-2.06-.94 2.06-2.06.94z\"/><path d=\"M17.41 7.96l-1.37-1.37c-.4-.4-.92-.59-1.43-.59-.52 0-1.04.2-1.43.59L10.3 9.45l-7.72 7.72c-.78.78-.78 2.05 0 2.83L4 21.41c.39.39.9.59 1.41.59.51 0 1.02-.2 1.41-.59l7.78-7.78 2.81-2.81c.8-.78.8-2.07 0-2.86zM5.41 20L4 18.59l7.72-7.72 1.47 1.35L5.41 20z\"/>\n",
              "  </svg>\n",
              "      </button>\n",
              "      \n",
              "  <style>\n",
              "    .colab-df-container {\n",
              "      display:flex;\n",
              "      flex-wrap:wrap;\n",
              "      gap: 12px;\n",
              "    }\n",
              "\n",
              "    .colab-df-convert {\n",
              "      background-color: #E8F0FE;\n",
              "      border: none;\n",
              "      border-radius: 50%;\n",
              "      cursor: pointer;\n",
              "      display: none;\n",
              "      fill: #1967D2;\n",
              "      height: 32px;\n",
              "      padding: 0 0 0 0;\n",
              "      width: 32px;\n",
              "    }\n",
              "\n",
              "    .colab-df-convert:hover {\n",
              "      background-color: #E2EBFA;\n",
              "      box-shadow: 0px 1px 2px rgba(60, 64, 67, 0.3), 0px 1px 3px 1px rgba(60, 64, 67, 0.15);\n",
              "      fill: #174EA6;\n",
              "    }\n",
              "\n",
              "    [theme=dark] .colab-df-convert {\n",
              "      background-color: #3B4455;\n",
              "      fill: #D2E3FC;\n",
              "    }\n",
              "\n",
              "    [theme=dark] .colab-df-convert:hover {\n",
              "      background-color: #434B5C;\n",
              "      box-shadow: 0px 1px 3px 1px rgba(0, 0, 0, 0.15);\n",
              "      filter: drop-shadow(0px 1px 2px rgba(0, 0, 0, 0.3));\n",
              "      fill: #FFFFFF;\n",
              "    }\n",
              "  </style>\n",
              "\n",
              "      <script>\n",
              "        const buttonEl =\n",
              "          document.querySelector('#df-1c03427c-53b3-42a8-a862-5aa53157fdaf button.colab-df-convert');\n",
              "        buttonEl.style.display =\n",
              "          google.colab.kernel.accessAllowed ? 'block' : 'none';\n",
              "\n",
              "        async function convertToInteractive(key) {\n",
              "          const element = document.querySelector('#df-1c03427c-53b3-42a8-a862-5aa53157fdaf');\n",
              "          const dataTable =\n",
              "            await google.colab.kernel.invokeFunction('convertToInteractive',\n",
              "                                                     [key], {});\n",
              "          if (!dataTable) return;\n",
              "\n",
              "          const docLinkHtml = 'Like what you see? Visit the ' +\n",
              "            '<a target=\"_blank\" href=https://colab.research.google.com/notebooks/data_table.ipynb>data table notebook</a>'\n",
              "            + ' to learn more about interactive tables.';\n",
              "          element.innerHTML = '';\n",
              "          dataTable['output_type'] = 'display_data';\n",
              "          await google.colab.output.renderOutput(dataTable, element);\n",
              "          const docLink = document.createElement('div');\n",
              "          docLink.innerHTML = docLinkHtml;\n",
              "          element.appendChild(docLink);\n",
              "        }\n",
              "      </script>\n",
              "    </div>\n",
              "  </div>\n",
              "  "
            ]
          },
          "metadata": {},
          "execution_count": 45
        }
      ]
    },
    {
      "cell_type": "code",
      "source": [
        "final.reset_index(inplace=True, drop=True)"
      ],
      "metadata": {
        "id": "UyqDHsJ99Vio"
      },
      "execution_count": 46,
      "outputs": []
    },
    {
      "cell_type": "code",
      "source": [
        "final.reset_index(inplace=True, drop=False)"
      ],
      "metadata": {
        "id": "TEfsbajJ9wo4"
      },
      "execution_count": 48,
      "outputs": []
    },
    {
      "cell_type": "code",
      "source": [
        "final.head()"
      ],
      "metadata": {
        "colab": {
          "base_uri": "https://localhost:8080/",
          "height": 206
        },
        "id": "HIesXf7D9yLw",
        "outputId": "8c3ad2de-6359-4e93-97b8-9d538a58100d"
      },
      "execution_count": 49,
      "outputs": [
        {
          "output_type": "execute_result",
          "data": {
            "text/plain": [
              "   index      Real  Previsão\n",
              "0      0  0.000000  0.031077\n",
              "1      1  0.001018  0.031934\n",
              "2      2  0.005597  0.187783\n",
              "3      3  0.031462  0.041316\n",
              "4      4  0.037398  0.047649"
            ],
            "text/html": [
              "\n",
              "  <div id=\"df-80fc8284-9e8a-4479-be2e-b27bc8b106ee\">\n",
              "    <div class=\"colab-df-container\">\n",
              "      <div>\n",
              "<style scoped>\n",
              "    .dataframe tbody tr th:only-of-type {\n",
              "        vertical-align: middle;\n",
              "    }\n",
              "\n",
              "    .dataframe tbody tr th {\n",
              "        vertical-align: top;\n",
              "    }\n",
              "\n",
              "    .dataframe thead th {\n",
              "        text-align: right;\n",
              "    }\n",
              "</style>\n",
              "<table border=\"1\" class=\"dataframe\">\n",
              "  <thead>\n",
              "    <tr style=\"text-align: right;\">\n",
              "      <th></th>\n",
              "      <th>index</th>\n",
              "      <th>Real</th>\n",
              "      <th>Previsão</th>\n",
              "    </tr>\n",
              "  </thead>\n",
              "  <tbody>\n",
              "    <tr>\n",
              "      <th>0</th>\n",
              "      <td>0</td>\n",
              "      <td>0.000000</td>\n",
              "      <td>0.031077</td>\n",
              "    </tr>\n",
              "    <tr>\n",
              "      <th>1</th>\n",
              "      <td>1</td>\n",
              "      <td>0.001018</td>\n",
              "      <td>0.031934</td>\n",
              "    </tr>\n",
              "    <tr>\n",
              "      <th>2</th>\n",
              "      <td>2</td>\n",
              "      <td>0.005597</td>\n",
              "      <td>0.187783</td>\n",
              "    </tr>\n",
              "    <tr>\n",
              "      <th>3</th>\n",
              "      <td>3</td>\n",
              "      <td>0.031462</td>\n",
              "      <td>0.041316</td>\n",
              "    </tr>\n",
              "    <tr>\n",
              "      <th>4</th>\n",
              "      <td>4</td>\n",
              "      <td>0.037398</td>\n",
              "      <td>0.047649</td>\n",
              "    </tr>\n",
              "  </tbody>\n",
              "</table>\n",
              "</div>\n",
              "      <button class=\"colab-df-convert\" onclick=\"convertToInteractive('df-80fc8284-9e8a-4479-be2e-b27bc8b106ee')\"\n",
              "              title=\"Convert this dataframe to an interactive table.\"\n",
              "              style=\"display:none;\">\n",
              "        \n",
              "  <svg xmlns=\"http://www.w3.org/2000/svg\" height=\"24px\"viewBox=\"0 0 24 24\"\n",
              "       width=\"24px\">\n",
              "    <path d=\"M0 0h24v24H0V0z\" fill=\"none\"/>\n",
              "    <path d=\"M18.56 5.44l.94 2.06.94-2.06 2.06-.94-2.06-.94-.94-2.06-.94 2.06-2.06.94zm-11 1L8.5 8.5l.94-2.06 2.06-.94-2.06-.94L8.5 2.5l-.94 2.06-2.06.94zm10 10l.94 2.06.94-2.06 2.06-.94-2.06-.94-.94-2.06-.94 2.06-2.06.94z\"/><path d=\"M17.41 7.96l-1.37-1.37c-.4-.4-.92-.59-1.43-.59-.52 0-1.04.2-1.43.59L10.3 9.45l-7.72 7.72c-.78.78-.78 2.05 0 2.83L4 21.41c.39.39.9.59 1.41.59.51 0 1.02-.2 1.41-.59l7.78-7.78 2.81-2.81c.8-.78.8-2.07 0-2.86zM5.41 20L4 18.59l7.72-7.72 1.47 1.35L5.41 20z\"/>\n",
              "  </svg>\n",
              "      </button>\n",
              "      \n",
              "  <style>\n",
              "    .colab-df-container {\n",
              "      display:flex;\n",
              "      flex-wrap:wrap;\n",
              "      gap: 12px;\n",
              "    }\n",
              "\n",
              "    .colab-df-convert {\n",
              "      background-color: #E8F0FE;\n",
              "      border: none;\n",
              "      border-radius: 50%;\n",
              "      cursor: pointer;\n",
              "      display: none;\n",
              "      fill: #1967D2;\n",
              "      height: 32px;\n",
              "      padding: 0 0 0 0;\n",
              "      width: 32px;\n",
              "    }\n",
              "\n",
              "    .colab-df-convert:hover {\n",
              "      background-color: #E2EBFA;\n",
              "      box-shadow: 0px 1px 2px rgba(60, 64, 67, 0.3), 0px 1px 3px 1px rgba(60, 64, 67, 0.15);\n",
              "      fill: #174EA6;\n",
              "    }\n",
              "\n",
              "    [theme=dark] .colab-df-convert {\n",
              "      background-color: #3B4455;\n",
              "      fill: #D2E3FC;\n",
              "    }\n",
              "\n",
              "    [theme=dark] .colab-df-convert:hover {\n",
              "      background-color: #434B5C;\n",
              "      box-shadow: 0px 1px 3px 1px rgba(0, 0, 0, 0.15);\n",
              "      filter: drop-shadow(0px 1px 2px rgba(0, 0, 0, 0.3));\n",
              "      fill: #FFFFFF;\n",
              "    }\n",
              "  </style>\n",
              "\n",
              "      <script>\n",
              "        const buttonEl =\n",
              "          document.querySelector('#df-80fc8284-9e8a-4479-be2e-b27bc8b106ee button.colab-df-convert');\n",
              "        buttonEl.style.display =\n",
              "          google.colab.kernel.accessAllowed ? 'block' : 'none';\n",
              "\n",
              "        async function convertToInteractive(key) {\n",
              "          const element = document.querySelector('#df-80fc8284-9e8a-4479-be2e-b27bc8b106ee');\n",
              "          const dataTable =\n",
              "            await google.colab.kernel.invokeFunction('convertToInteractive',\n",
              "                                                     [key], {});\n",
              "          if (!dataTable) return;\n",
              "\n",
              "          const docLinkHtml = 'Like what you see? Visit the ' +\n",
              "            '<a target=\"_blank\" href=https://colab.research.google.com/notebooks/data_table.ipynb>data table notebook</a>'\n",
              "            + ' to learn more about interactive tables.';\n",
              "          element.innerHTML = '';\n",
              "          dataTable['output_type'] = 'display_data';\n",
              "          await google.colab.output.renderOutput(dataTable, element);\n",
              "          const docLink = document.createElement('div');\n",
              "          docLink.innerHTML = docLinkHtml;\n",
              "          element.appendChild(docLink);\n",
              "        }\n",
              "      </script>\n",
              "    </div>\n",
              "  </div>\n",
              "  "
            ]
          },
          "metadata": {},
          "execution_count": 49
        }
      ]
    },
    {
      "cell_type": "code",
      "source": [
        "plt.figure(figsize=(20,10))\n",
        "sns.lineplot(data=final, x='index', y='Real')\n",
        "sns.lineplot(data=final, x='index', y='Previsão')\n",
        "plt.title('Consumo Real x Previsão de Consumo')\n",
        "plt.legend(labels=['Real', 'Previsão'])\n",
        "plt.ylabel('Consumo de Combustível')\n",
        "plt.xlabel(' ')\n",
        "plt.show()"
      ],
      "metadata": {
        "colab": {
          "base_uri": "https://localhost:8080/",
          "height": 588
        },
        "id": "oAKBeZh89cQA",
        "outputId": "968cd085-a301-4e25-f0e4-8908939970fc"
      },
      "execution_count": 52,
      "outputs": [
        {
          "output_type": "display_data",
          "data": {
            "text/plain": [
              "<Figure size 1440x720 with 1 Axes>"
            ],
            "image/png": "[encoded data removed]"
          },
          "metadata": {
            "needs_background": "light"
          }
        }
      ]
    },
    {
      "cell_type": "markdown",
      "source": [
        "Podemos ver que de acordo com o gráfico, tivemos um ótimo comportamento do modelo em relação aos dados reais. Assim podemos ver que nosso modelo funciona muito bem para prever o consumo de combustível para o modelo do Airbus A320neo."
      ],
      "metadata": {
        "id": "QVUuv2aK-qye"
      }
    },
    {
      "cell_type": "markdown",
      "source": [
        "# Salvando o modelo em formato JSON"
      ],
      "metadata": {
        "id": "zrDOjGcI-5cS"
      }
    },
    {
      "cell_type": "code",
      "source": [
        "model_json = model.to_json()\n",
        "with open('model_a320n.json', 'w') as json_file:\n",
        "    json_file.write(model_json)\n",
        "model.save_weights('pesos.h5')"
      ],
      "metadata": {
        "id": "1PufwDEF-XKR"
      },
      "execution_count": 54,
      "outputs": []
    },
    {
      "cell_type": "code",
      "source": [
        ""
      ],
      "metadata": {
        "id": "2X8vNk6K_XBn"
      },
      "execution_count": null,
      "outputs": []
    }
  ]
}